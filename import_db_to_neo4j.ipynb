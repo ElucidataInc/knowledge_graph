{
 "cells": [
  {
   "cell_type": "code",
   "execution_count": null,
   "metadata": {},
   "outputs": [],
   "source": [
    "from neo4j import GraphDatabase\n",
    "import pandas as pd\n",
    "driver=GraphDatabase.driver(uri=\"bolt://localhost:7687\",auth=(\"neo4j\",\"biomedical_kg\"))\n",
    "session=driver.session()"
   ]
  },
  {
   "cell_type": "code",
   "execution_count": null,
   "metadata": {},
   "outputs": [],
   "source": [
    "# # geo_downregulates = pd.read_csv('geo_downregulates_relationship.tsv', sep='\\t')\n",
    "# # geo_upregulates = pd.read_csv('geo_upregulates_relationship.tsv', sep='\\t')\n",
    "# # string_node_properties = pd.read_csv('string_protein_node.tsv', sep='\\t',index_col=[0])\n",
    "# string_node_relationships = pd.read_csv('STRING/string_interacts-with_relationship.tsv', sep='\\t')"
   ]
  },
  {
   "cell_type": "markdown",
   "metadata": {},
   "source": [
    "Fill null values with \"NaN\" since Neo4J doesn't accept null values"
   ]
  },
  {
   "cell_type": "code",
   "execution_count": null,
   "metadata": {},
   "outputs": [],
   "source": [
    "# print(string_node_relationships.isna().sum())\n",
    "# string_node_relationships.fillna('NaN', inplace=True)\n",
    "# print(string_node_relationships.isna().sum())\n",
    "# string_node_relationships = string_node_relationships[:10000]\n",
    "# string_node_relationships.to_csv('STRING/string_interacts-with_relationship_10000.tsv', sep=\"\\t\", index=False)\n",
    "# string_node_relationships"
   ]
  },
  {
   "cell_type": "code",
   "execution_count": null,
   "metadata": {},
   "outputs": [],
   "source": [
    "# Call dbms.listConfig();"
   ]
  },
  {
   "cell_type": "markdown",
   "metadata": {},
   "source": [
    "STRING Relationship"
   ]
  },
  {
   "cell_type": "code",
   "execution_count": null,
   "metadata": {},
   "outputs": [],
   "source": [
    "q1 = \"\"\"LOAD CSV WITH HEADERS FROM 'file:///string_interacts-with_relationship.tsv' as row FIELDTERMINATOR '\\t'\n",
    "MERGE (k:protein1 {Name: row.Protein1})\n",
    "MERGE (j:protein2 {Name: row.Protein2})\n",
    "MERGE (k) -[:interacts_with {combined_score:row.combined_score, neighborhood:row.neighborhood, fusion:row.fusion, cooccurence:row.cooccurence, coexpression:row.coexpression, database:row.database, textmining:row.textmining}] -> (j)\"\"\""
   ]
  },
  {
   "cell_type": "code",
   "execution_count": null,
   "metadata": {},
   "outputs": [],
   "source": [
    "results=session.run(q1)\n",
    "data=results.data()\n",
    "data"
   ]
  },
  {
   "cell_type": "markdown",
   "metadata": {},
   "source": [
    "Set properties of proteins\n"
   ]
  },
  {
   "cell_type": "code",
   "execution_count": null,
   "metadata": {},
   "outputs": [],
   "source": [
    "q2 = \"\"\"LOAD CSV WITH HEADERS FROM 'file:///string_protein_node.tsv' as csvLine FIELDTERMINATOR '\\t'\n",
    "MATCH (k {Name: csvLine.Ensembl_ID})\n",
    "SET k.Preferred_name = csvLine.Preferred_name, k.Ensembl_HGNC = csvLine.Ensembl_HGNC, k.Ensembl_gene = csvLine.Ensembl_gene, k.Ensembl_UniProt_AC = csvLine.Ensembl_UniProt_AC\"\"\""
   ]
  },
  {
   "cell_type": "code",
   "execution_count": null,
   "metadata": {},
   "outputs": [],
   "source": [
    "results=session.run(q2)\n",
    "data=results.data()\n",
    "data"
   ]
  },
  {
   "cell_type": "markdown",
   "metadata": {},
   "source": [
    "GEO - Downregulation"
   ]
  },
  {
   "cell_type": "code",
   "execution_count": null,
   "metadata": {},
   "outputs": [],
   "source": [
    "q3 = \"\"\"LOAD CSV WITH HEADERS FROM 'file:///geo_downregulates_relationship.tsv' as row FIELDTERMINATOR '\\t'\n",
    "MERGE (x:disease {Name: row.Disease})\n",
    "MERGE (y:gene {Name: row.Gene})\n",
    "MERGE (x) -[:downregulates {metap:row.metap, metafc:row.metafc}] -> (y)\n",
    "\"\"\""
   ]
  },
  {
   "cell_type": "code",
   "execution_count": null,
   "metadata": {},
   "outputs": [],
   "source": [
    "results=session.run(q3)\n",
    "data=results.data()\n",
    "data"
   ]
  },
  {
   "cell_type": "markdown",
   "metadata": {},
   "source": [
    "GEO - Upregulation"
   ]
  },
  {
   "cell_type": "code",
   "execution_count": null,
   "metadata": {},
   "outputs": [],
   "source": [
    "q4 = \"\"\"LOAD CSV WITH HEADERS FROM 'file:///geo_upregulates_relationship.tsv' as row FIELDTERMINATOR '\\t'\n",
    "MERGE (x:disease {Name: row.Disease})\n",
    "MERGE (z:gene {Name: row.Gene})\n",
    "MERGE (x) -[:upregulates {metap:row.metap, metafc:row.metafc}] -> (z)\n",
    "\"\"\""
   ]
  },
  {
   "cell_type": "code",
   "execution_count": null,
   "metadata": {},
   "outputs": [],
   "source": [
    "results=session.run(q4)\n",
    "data=results.data()\n",
    "data"
   ]
  },
  {
   "cell_type": "markdown",
   "metadata": {},
   "source": [
    "Forming a heterogeneous dataset of GEO & STRING"
   ]
  },
  {
   "cell_type": "code",
   "execution_count": null,
   "metadata": {},
   "outputs": [],
   "source": [
    "# q5 = \"\"\"MATCH (a:gene),(b:protein1)\n",
    "# WHERE a.Name = b.Preferred_name\n",
    "# CREATE (a)-[r:product]->(b)\n",
    "# RETURN a,b\"\"\""
   ]
  },
  {
   "cell_type": "code",
   "execution_count": null,
   "metadata": {},
   "outputs": [],
   "source": [
    "# q5_1 = \"\"\"MATCH (a:gene),(b:protein2)\n",
    "# WHERE a.Name = b.Preferred_name\n",
    "# CREATE (a)-[r:product]->(b)\n",
    "# RETURN a,b\"\"\""
   ]
  },
  {
   "cell_type": "code",
   "execution_count": null,
   "metadata": {},
   "outputs": [],
   "source": [
    "# results=session.run(q5)\n",
    "# data=results.data()\n",
    "\n",
    "# results=session.run(q5_1)\n",
    "# data=results.data()\n",
    "\n",
    "# data"
   ]
  },
  {
   "cell_type": "markdown",
   "metadata": {},
   "source": [
    "LINCS"
   ]
  },
  {
   "cell_type": "code",
   "execution_count": null,
   "metadata": {},
   "outputs": [],
   "source": [
    "# down_lincs = pd.read_csv('LINCS/lincs_downregulates_relationship.tsv', sep='\\t')\n",
    "# up_lincs = pd.read_csv('LINCS/lincs_upregulates_relationship.tsv', sep='\\t')"
   ]
  },
  {
   "cell_type": "code",
   "execution_count": null,
   "metadata": {},
   "outputs": [],
   "source": [
    "q6 = \"\"\"LOAD CSV WITH HEADERS FROM 'file:///lincs_downregulates_relationship.tsv' as row FIELDTERMINATOR '\\t'\n",
    "MERGE (x:drug {Name: row.drug})\n",
    "MERGE (y:gene {Name: row.gene})\n",
    "MERGE (x) -[:downregulates {zvalue:row.zvalue, pvalue:row.pvalue}] -> (y)\n",
    "\"\"\""
   ]
  },
  {
   "cell_type": "code",
   "execution_count": null,
   "metadata": {},
   "outputs": [],
   "source": [
    "results=session.run(q6)\n",
    "data=results.data()\n",
    "data"
   ]
  },
  {
   "cell_type": "code",
   "execution_count": null,
   "metadata": {},
   "outputs": [],
   "source": [
    "q7 = \"\"\"LOAD CSV WITH HEADERS FROM 'file:///lincs_upregulates_relationship.tsv' as row FIELDTERMINATOR '\\t'\n",
    "MERGE (x:drug {Name: row.drug})\n",
    "MERGE (y:gene {Name: row.gene})\n",
    "MERGE (x) -[:upregulates {zvalue:row.zvalue, pvalue:row.pvalue}] -> (y)\n",
    "\"\"\""
   ]
  },
  {
   "cell_type": "code",
   "execution_count": null,
   "metadata": {},
   "outputs": [],
   "source": [
    "results=session.run(q7)\n",
    "data=results.data()\n",
    "data"
   ]
  },
  {
   "cell_type": "markdown",
   "metadata": {},
   "source": [
    "DisGeNET"
   ]
  },
  {
   "cell_type": "code",
   "execution_count": null,
   "metadata": {},
   "outputs": [],
   "source": [
    "# dis_rel = pd.read_csv('DisGeNet/disgenet_association_relationship.tsv', sep='\\t',index_col=[0])\n",
    "# dis_disease_node = pd.read_csv('DisGeNet/disgenet_disease_node.tsv', sep='\\t',index_col=[0])\n",
    "# dis_gene_node = pd.read_csv('DisGeNet/disgenet_gene_node.tsv', sep='\\t',index_col=[0])"
   ]
  },
  {
   "cell_type": "code",
   "execution_count": null,
   "metadata": {},
   "outputs": [],
   "source": [
    "# dis_gene_node.fillna('NaN', inplace=True)"
   ]
  },
  {
   "cell_type": "code",
   "execution_count": null,
   "metadata": {},
   "outputs": [],
   "source": [
    "# dis_rel.to_csv('DisGeNet/disgenet_association_relationship.tsv', sep=\"\\t\", index=False)\n",
    "# dis_disease_node.to_csv('DisGeNet/disgenet_disease_node.tsv', sep=\"\\t\", index=False)\n",
    "# dis_gene_node.to_csv('DisGeNet/disgenet_gene_node.tsv', sep=\"\\t\", index=False)"
   ]
  },
  {
   "cell_type": "markdown",
   "metadata": {},
   "source": [
    "DisGeNET association"
   ]
  },
  {
   "cell_type": "code",
   "execution_count": null,
   "metadata": {},
   "outputs": [],
   "source": [
    "q8 = \"\"\"LOAD CSV WITH HEADERS FROM 'file:///disgenet_association_relationship.tsv' as row FIELDTERMINATOR '\\t'\n",
    "MERGE (x:disease {Name: row.disease})\n",
    "MERGE (y:gene {Name: row.gene})\n",
    "MERGE (x) -[:associated_with {score:row.score, ei:row.EI, year_initial:row.year_initial, year_final:row.year_final}] -> (y)\n",
    "\"\"\""
   ]
  },
  {
   "cell_type": "code",
   "execution_count": null,
   "metadata": {},
   "outputs": [],
   "source": [
    "results=session.run(q8)\n",
    "data=results.data()\n",
    "data"
   ]
  },
  {
   "cell_type": "markdown",
   "metadata": {},
   "source": [
    "Set property of disease"
   ]
  },
  {
   "cell_type": "code",
   "execution_count": null,
   "metadata": {},
   "outputs": [],
   "source": [
    "q9 = \"\"\"LOAD CSV WITH HEADERS FROM 'file:///disgenet_disease_node.tsv' as csvLine FIELDTERMINATOR '\\t'\n",
    "MATCH (k {Name: csvLine.disease})\n",
    "SET k.diseaseID = csvLine.diseaseID, k.disease_class = csvLine.disease_class, k.disease_class_name = csvLine.disease_class_name, k.disease_semantic_type = csvLine.disease_semantic_type\"\"\""
   ]
  },
  {
   "cell_type": "code",
   "execution_count": null,
   "metadata": {},
   "outputs": [],
   "source": [
    "results=session.run(q9)\n",
    "data=results.data()\n",
    "data"
   ]
  },
  {
   "cell_type": "markdown",
   "metadata": {},
   "source": [
    "Set property of genes"
   ]
  },
  {
   "cell_type": "code",
   "execution_count": null,
   "metadata": {},
   "outputs": [],
   "source": [
    "q10 = \"\"\"LOAD CSV WITH HEADERS FROM 'file:///disgenet_gene_node.tsv' as csvLine FIELDTERMINATOR '\\t'\n",
    "MATCH (k {Name: csvLine.gene})\n",
    "SET k.geneID = csvLine.geneID, k.Protein_Class = csvLine.Protein_Class, k.UniProtID = csvLine.UniProtID, k.DPI = csvLine.DPI, k.DSI = csvLine.DSI\"\"\""
   ]
  },
  {
   "cell_type": "code",
   "execution_count": null,
   "metadata": {},
   "outputs": [],
   "source": [
    "results=session.run(q10)\n",
    "data=results.data()\n",
    "data"
   ]
  },
  {
   "cell_type": "markdown",
   "metadata": {},
   "source": [
    "Forming a heterogeneous dataset of LINCS & STRING"
   ]
  },
  {
   "cell_type": "code",
   "execution_count": null,
   "metadata": {},
   "outputs": [],
   "source": [
    "# q11 = \"\"\"MATCH (a:gene),(b:protein1)\n",
    "# WHERE a.Name = b.Preferred_name\n",
    "# CREATE (a)-[r:product]->(b)\"\"\""
   ]
  },
  {
   "cell_type": "code",
   "execution_count": null,
   "metadata": {},
   "outputs": [],
   "source": [
    "# q11_1 = \"\"\"MATCH (a:gene),(b:protein2)\n",
    "# WHERE a.Name = b.Preferred_name\n",
    "# CREATE (a)-[r:product]->(b)\"\"\""
   ]
  },
  {
   "cell_type": "code",
   "execution_count": null,
   "metadata": {},
   "outputs": [],
   "source": [
    "# results=session.run(q11)\n",
    "# data=results.data()\n",
    "\n",
    "# results=session.run(q11_1)\n",
    "# data=results.data()\n",
    "\n",
    "# data"
   ]
  },
  {
   "cell_type": "markdown",
   "metadata": {},
   "source": [
    "Forming a heterogeneous dataset of DisGeNET & STRING"
   ]
  },
  {
   "cell_type": "code",
   "execution_count": null,
   "metadata": {},
   "outputs": [],
   "source": [
    "q12 = \"\"\"MATCH (a:gene),(b:protein)\n",
    "WHERE a.Name = b.Preferred_name\n",
    "CREATE (a)-[r:product]->(b)\"\"\""
   ]
  },
  {
   "cell_type": "code",
   "execution_count": null,
   "metadata": {},
   "outputs": [],
   "source": [
    "# q12_1 = \"\"\"MATCH (a:gene),(b:protein1)\n",
    "# WHERE a.Name = b.Preferred_name\n",
    "# CREATE (a)-[r:product]->(b)\"\"\""
   ]
  },
  {
   "cell_type": "code",
   "execution_count": null,
   "metadata": {},
   "outputs": [],
   "source": [
    "results=session.run(q12)\n",
    "data=results.data()\n",
    "\n",
    "# results=session.run(q12_1)\n",
    "# data=results.data()\n",
    "\n",
    "data"
   ]
  },
  {
   "cell_type": "code",
   "execution_count": null,
   "metadata": {},
   "outputs": [],
   "source": [
    "q13 = \"\"\"MATCH (n:protein1)\n",
    "REMOVE n:protein1\n",
    "SET n:protein\"\"\"\n",
    "\n",
    "q13_1 = \"\"\"MATCH (n:protein2)\n",
    "REMOVE n:protein2\n",
    "SET n:protein\"\"\"\n",
    "\n",
    "results=session.run(q13)\n",
    "data=results.data()\n",
    "\n",
    "results=session.run(q13_1)\n",
    "data=results.data()"
   ]
  }
 ],
 "metadata": {
  "interpreter": {
   "hash": "b887ab1337c1ee5848a5e5d6ea73d2ba6db7e6c2cf570d54be1bd8dcc9296268"
  },
  "kernelspec": {
   "display_name": "Python 3.9.7 ('base')",
   "language": "python",
   "name": "python3"
  },
  "language_info": {
   "codemirror_mode": {
    "name": "ipython",
    "version": 3
   },
   "file_extension": ".py",
   "mimetype": "text/x-python",
   "name": "python",
   "nbconvert_exporter": "python",
   "pygments_lexer": "ipython3",
   "version": "3.9.7"
  },
  "orig_nbformat": 4
 },
 "nbformat": 4,
 "nbformat_minor": 2
}
