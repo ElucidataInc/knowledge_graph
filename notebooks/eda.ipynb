{
 "cells": [
  {
   "cell_type": "markdown",
   "metadata": {},
   "source": [
    "# Exploratory Data Analysis of the Knowledge Graph using Neo4j"
   ]
  },
  {
   "cell_type": "markdown",
   "metadata": {},
   "source": [
    "## Connecting to Neo4j"
   ]
  },
  {
   "cell_type": "code",
   "execution_count": 59,
   "metadata": {},
   "outputs": [],
   "source": [
    "from neo4j import GraphDatabase\n",
    "import pandas as pd\n",
    "import numpy as np\n",
    "import matplotlib.pyplot as plt\n",
    "from collections import Counter\n",
    "\n",
    "driver=GraphDatabase.driver(uri=\"bolt://localhost:7687\",auth=(\"neo4j\",\"biomedical_kg\"))\n",
    "session=driver.session()"
   ]
  },
  {
   "cell_type": "markdown",
   "metadata": {},
   "source": [
    "## 1. Statistics on node, relationships and properties"
   ]
  },
  {
   "cell_type": "code",
   "execution_count": 46,
   "metadata": {},
   "outputs": [
    {
     "data": {
      "text/html": [
       "<div>\n",
       "<style scoped>\n",
       "    .dataframe tbody tr th:only-of-type {\n",
       "        vertical-align: middle;\n",
       "    }\n",
       "\n",
       "    .dataframe tbody tr th {\n",
       "        vertical-align: top;\n",
       "    }\n",
       "\n",
       "    .dataframe thead th {\n",
       "        text-align: right;\n",
       "    }\n",
       "</style>\n",
       "<table border=\"1\" class=\"dataframe\">\n",
       "  <thead>\n",
       "    <tr style=\"text-align: right;\">\n",
       "      <th></th>\n",
       "      <th>labels</th>\n",
       "      <th>Num_of_Nodes</th>\n",
       "      <th>Avg_Num_Of_Prop_Per_Node</th>\n",
       "      <th>Min_Num_Prop_Per_Node</th>\n",
       "      <th>Max_Num_Prop_Per_Node</th>\n",
       "      <th>Avg_Num_Of_Relationships</th>\n",
       "      <th>Min_Num_Of_Relationships</th>\n",
       "      <th>Max_Num_Of_Relationships</th>\n",
       "    </tr>\n",
       "  </thead>\n",
       "  <tbody>\n",
       "    <tr>\n",
       "      <th>0</th>\n",
       "      <td>[drug]</td>\n",
       "      <td>5182</td>\n",
       "      <td>1.000000</td>\n",
       "      <td>1</td>\n",
       "      <td>1</td>\n",
       "      <td>6.894056</td>\n",
       "      <td>0</td>\n",
       "      <td>2868</td>\n",
       "    </tr>\n",
       "    <tr>\n",
       "      <th>1</th>\n",
       "      <td>[gene]</td>\n",
       "      <td>11727</td>\n",
       "      <td>1.446576</td>\n",
       "      <td>1</td>\n",
       "      <td>6</td>\n",
       "      <td>3.342202</td>\n",
       "      <td>1</td>\n",
       "      <td>101</td>\n",
       "    </tr>\n",
       "    <tr>\n",
       "      <th>2</th>\n",
       "      <td>[protein]</td>\n",
       "      <td>13154</td>\n",
       "      <td>3.635396</td>\n",
       "      <td>1</td>\n",
       "      <td>5</td>\n",
       "      <td>7.027824</td>\n",
       "      <td>1</td>\n",
       "      <td>1125</td>\n",
       "    </tr>\n",
       "    <tr>\n",
       "      <th>3</th>\n",
       "      <td>[disease]</td>\n",
       "      <td>1</td>\n",
       "      <td>5.000000</td>\n",
       "      <td>5</td>\n",
       "      <td>5</td>\n",
       "      <td>2981.000000</td>\n",
       "      <td>2981</td>\n",
       "      <td>2981</td>\n",
       "    </tr>\n",
       "  </tbody>\n",
       "</table>\n",
       "</div>"
      ],
      "text/plain": [
       "      labels  Num_of_Nodes  Avg_Num_Of_Prop_Per_Node  Min_Num_Prop_Per_Node  \\\n",
       "0     [drug]          5182                  1.000000                      1   \n",
       "1     [gene]         11727                  1.446576                      1   \n",
       "2  [protein]         13154                  3.635396                      1   \n",
       "3  [disease]             1                  5.000000                      5   \n",
       "\n",
       "   Max_Num_Prop_Per_Node  Avg_Num_Of_Relationships  Min_Num_Of_Relationships  \\\n",
       "0                      1                  6.894056                         0   \n",
       "1                      6                  3.342202                         1   \n",
       "2                      5                  7.027824                         1   \n",
       "3                      5               2981.000000                      2981   \n",
       "\n",
       "   Max_Num_Of_Relationships  \n",
       "0                      2868  \n",
       "1                       101  \n",
       "2                      1125  \n",
       "3                      2981  "
      ]
     },
     "execution_count": 46,
     "metadata": {},
     "output_type": "execute_result"
    }
   ],
   "source": [
    "q = \"\"\"\n",
    "MATCH (n)\n",
    "WITH labels(n) as labels, size(keys(n)) as props, size((n)--()) as degree\n",
    "RETURN\n",
    "DISTINCT labels,\n",
    "count(*) AS Num_of_Nodes,\n",
    "avg(props) AS Avg_Num_Of_Prop_Per_Node,\n",
    "min(props) AS Min_Num_Prop_Per_Node,\n",
    "max(props) AS Max_Num_Prop_Per_Node,\n",
    "avg(degree) AS Avg_Num_Of_Relationships,\n",
    "min(degree) AS Min_Num_Of_Relationships,\n",
    "max(degree) AS Max_Num_Of_Relationships\n",
    "\"\"\"\n",
    "\n",
    "results=session.run(q)\n",
    "data=pd.DataFrame(results.data())\n",
    "data"
   ]
  },
  {
   "cell_type": "markdown",
   "metadata": {},
   "source": [
    "Drug: Total Regulations"
   ]
  },
  {
   "cell_type": "code",
   "execution_count": 74,
   "metadata": {},
   "outputs": [
    {
     "data": {
      "image/png": "[encoded data removed]",
      "text/plain": [
       "<Figure size 360x1080 with 1 Axes>"
      ]
     },
     "metadata": {
      "needs_background": "light"
     },
     "output_type": "display_data"
    }
   ],
   "source": [
    "q = \"\"\"MATCH (a:drug)-[r:upregulates]->(b)\n",
    "WITH a,\n",
    "    COUNT(r) as upregulation_count\n",
    "RETURN a.Name as Drug,upregulation_count\"\"\"\n",
    "\n",
    "results=session.run(q)\n",
    "data1=pd.DataFrame(results.data())\n",
    "\n",
    "q = \"\"\"MATCH (a:drug)-[r:downregulates]->(b)\n",
    "WITH a,\n",
    "    COUNT(r) as downregulation_count\n",
    "RETURN a.Name as Drug,downregulation_count\"\"\"\n",
    "\n",
    "results=session.run(q)\n",
    "data2=pd.DataFrame(results.data())\n",
    "\n",
    "combined_df = pd.merge(data1, data2, on='Drug', how='outer')\n",
    "\n",
    "#Replace NaN with 0\n",
    "combined_df = combined_df.fillna(0)\n",
    "\n",
    "#Create a new column that is the sum of the down_regulation and up_regulation columns\n",
    "combined_df['Total_regulations'] = combined_df['downregulation_count'] + combined_df['upregulation_count']\n",
    "combined_df = combined_df.sort_values(by=['Total_regulations'], ascending=False)\n",
    "combined_df.reset_index(drop=True, inplace=True)\n",
    "combined_df\n",
    "\n",
    "fig, ax = plt.subplots(figsize=(5,15))\n",
    "combined_df.head().plot.bar(x = 'Drug', y = ['Total_regulations', 'upregulation_count', 'downregulation_count'], rot = 40, ax = ax)\n",
    "for p in ax.patches: \n",
    "    ax.annotate(np.round(p.get_height(),decimals=2), (p.get_x()+p.get_width()/5., p.get_height()))"
   ]
  },
  {
   "cell_type": "markdown",
   "metadata": {},
   "source": [
    "DRUG: Max Products"
   ]
  },
  {
   "cell_type": "code",
   "execution_count": 54,
   "metadata": {},
   "outputs": [
    {
     "data": {
      "text/html": [
       "<div>\n",
       "<style scoped>\n",
       "    .dataframe tbody tr th:only-of-type {\n",
       "        vertical-align: middle;\n",
       "    }\n",
       "\n",
       "    .dataframe tbody tr th {\n",
       "        vertical-align: top;\n",
       "    }\n",
       "\n",
       "    .dataframe thead th {\n",
       "        text-align: right;\n",
       "    }\n",
       "</style>\n",
       "<table border=\"1\" class=\"dataframe\">\n",
       "  <thead>\n",
       "    <tr style=\"text-align: right;\">\n",
       "      <th></th>\n",
       "      <th>Gene</th>\n",
       "      <th>No_of_Products</th>\n",
       "    </tr>\n",
       "  </thead>\n",
       "  <tbody>\n",
       "    <tr>\n",
       "      <th>0</th>\n",
       "      <td>INS</td>\n",
       "      <td>1</td>\n",
       "    </tr>\n",
       "    <tr>\n",
       "      <th>1</th>\n",
       "      <td>RAB5C</td>\n",
       "      <td>1</td>\n",
       "    </tr>\n",
       "    <tr>\n",
       "      <th>2</th>\n",
       "      <td>CD59</td>\n",
       "      <td>1</td>\n",
       "    </tr>\n",
       "    <tr>\n",
       "      <th>3</th>\n",
       "      <td>KLC2</td>\n",
       "      <td>1</td>\n",
       "    </tr>\n",
       "    <tr>\n",
       "      <th>4</th>\n",
       "      <td>KIF5A</td>\n",
       "      <td>1</td>\n",
       "    </tr>\n",
       "    <tr>\n",
       "      <th>...</th>\n",
       "      <td>...</td>\n",
       "      <td>...</td>\n",
       "    </tr>\n",
       "    <tr>\n",
       "      <th>483</th>\n",
       "      <td>KY</td>\n",
       "      <td>1</td>\n",
       "    </tr>\n",
       "    <tr>\n",
       "      <th>484</th>\n",
       "      <td>EIF3CL</td>\n",
       "      <td>1</td>\n",
       "    </tr>\n",
       "    <tr>\n",
       "      <th>485</th>\n",
       "      <td>SLC6A5</td>\n",
       "      <td>1</td>\n",
       "    </tr>\n",
       "    <tr>\n",
       "      <th>486</th>\n",
       "      <td>IL15RA</td>\n",
       "      <td>1</td>\n",
       "    </tr>\n",
       "    <tr>\n",
       "      <th>487</th>\n",
       "      <td>INO80D</td>\n",
       "      <td>1</td>\n",
       "    </tr>\n",
       "  </tbody>\n",
       "</table>\n",
       "<p>488 rows × 2 columns</p>\n",
       "</div>"
      ],
      "text/plain": [
       "       Gene  No_of_Products\n",
       "0       INS               1\n",
       "1     RAB5C               1\n",
       "2      CD59               1\n",
       "3      KLC2               1\n",
       "4     KIF5A               1\n",
       "..      ...             ...\n",
       "483      KY               1\n",
       "484  EIF3CL               1\n",
       "485  SLC6A5               1\n",
       "486  IL15RA               1\n",
       "487  INO80D               1\n",
       "\n",
       "[488 rows x 2 columns]"
      ]
     },
     "execution_count": 54,
     "metadata": {},
     "output_type": "execute_result"
    }
   ],
   "source": [
    "q = \"\"\"MATCH (a:gene)-[r:product]->(b)\n",
    "WITH a,\n",
    "    COUNT(r) as No_of_Products\n",
    "RETURN a.Name as Gene,No_of_Products\"\"\"\n",
    "\n",
    "results=session.run(q)\n",
    "data=pd.DataFrame(results.data())\n",
    "data"
   ]
  },
  {
   "cell_type": "markdown",
   "metadata": {},
   "source": [
    "PROTEIN: Max Relationships"
   ]
  },
  {
   "cell_type": "code",
   "execution_count": 71,
   "metadata": {},
   "outputs": [
    {
     "data": {
      "image/png": "[encoded data removed]",
      "text/plain": [
       "<Figure size 432x288 with 1 Axes>"
      ]
     },
     "metadata": {
      "needs_background": "light"
     },
     "output_type": "display_data"
    }
   ],
   "source": [
    "q = \"\"\"MATCH (a:protein)-[r:interacts_with]->(b)\n",
    "WITH a,\n",
    "    COUNT(r) as upregulation_count\n",
    "RETURN a.Name as Protein,upregulation_count\"\"\"\n",
    "\n",
    "results=session.run(q)\n",
    "data1=pd.DataFrame(results.data())\n",
    "\n",
    "q = \"\"\"MATCH (a:protein)-[r:interacts_with]->(b)\n",
    "WITH a,\n",
    "    COUNT(r) as downregulation_count\n",
    "RETURN a.Name as Protein,downregulation_count\"\"\"\n",
    "\n",
    "results=session.run(q)\n",
    "data2=pd.DataFrame(results.data())\n",
    "\n",
    "combined_df = pd.merge(data1, data2, on='Protein', how='outer')\n",
    "\n",
    "#Replace NaN with 0\n",
    "combined_df = combined_df.fillna(0)\n",
    "\n",
    "#Create a new column that is the sum of the down_regulation and up_regulation columns\n",
    "combined_df['Total_regulations'] = combined_df['downregulation_count'] + combined_df['upregulation_count']\n",
    "combined_df = combined_df.sort_values(by=['Total_regulations'], ascending=False)\n",
    "combined_df.reset_index(drop=True, inplace=True)\n",
    "combined_df\n",
    "\n",
    "fig, ax = plt.subplots()\n",
    "combined_df.head().plot.bar(x = 'Protein', y = ['Total_regulations', 'upregulation_count', 'downregulation_count'], rot = 40, ax = ax)\n",
    "for p in ax.patches: \n",
    "    ax.annotate(np.round(p.get_height(),decimals=2), (p.get_x()+p.get_width()/5., p.get_height()))"
   ]
  },
  {
   "cell_type": "markdown",
   "metadata": {},
   "source": [
    "DISEASE: Total Interactions"
   ]
  },
  {
   "cell_type": "code",
   "execution_count": 70,
   "metadata": {},
   "outputs": [
    {
     "data": {
      "image/png": "[encoded data removed]",
      "text/plain": [
       "<Figure size 432x288 with 1 Axes>"
      ]
     },
     "metadata": {
      "needs_background": "light"
     },
     "output_type": "display_data"
    }
   ],
   "source": [
    "q = \"\"\"MATCH (a:disease)-[r:downregulates]->(b)\n",
    "WITH a,\n",
    "    COUNT(r) as downregulation_count\n",
    "RETURN a.Name as Disease,downregulation_count\n",
    "\"\"\"\n",
    "\n",
    "results=session.run(q)\n",
    "data1=pd.DataFrame(results.data())\n",
    "\n",
    "q = \"\"\"MATCH (a:disease)-[r:upregulates]->(b)\n",
    "WITH a,\n",
    "    COUNT(r) as upregulation_count\n",
    "RETURN a.Name as Disease,upregulation_count\"\"\"\n",
    "\n",
    "results=session.run(q)\n",
    "data2=pd.DataFrame(results.data())\n",
    "\n",
    "q = \"\"\"MATCH (a:disease)-[r:associated_with]->(b)\n",
    "WITH a,\n",
    "    COUNT(r) as association_count\n",
    "RETURN a.Name as Disease,association_count\"\"\"\n",
    "\n",
    "results=session.run(q)\n",
    "data3=pd.DataFrame(results.data())\n",
    "\n",
    "combined_df = pd.merge(data1, data2, on='Disease', how='outer')\n",
    "\n",
    "#Replace NaN with 0\n",
    "combined_df = combined_df.fillna(0)\n",
    "\n",
    "#Create a new column that is the sum of the down_regulation and up_regulation columns\n",
    "combined_df['Total_regulations'] = combined_df['downregulation_count'] + combined_df['upregulation_count']\n",
    "combined_df = combined_df.sort_values(by=['Total_regulations'], ascending=False)\n",
    "combined_df.reset_index(drop=True, inplace=True)\n",
    "\n",
    "combined_df = pd.merge(combined_df, data3, on='Disease', how='outer')\n",
    "#Replace NaN with 0\n",
    "combined_df = combined_df.fillna(0)\n",
    "#Create a new column that is the sum of the down_regulation and up_regulation columns\n",
    "combined_df['Total_interactions'] = combined_df['Total_regulations'] + combined_df['association_count']\n",
    "combined_df = combined_df.sort_values(by=['Total_interactions'], ascending=False)\n",
    "combined_df.reset_index(drop=True, inplace=True)\n",
    "\n",
    "fig, ax = plt.subplots()\n",
    "combined_df.head().plot.bar(x = 'Disease', y = ['Total_interactions','Total_regulations', 'upregulation_count', 'downregulation_count', 'association_count'], rot = 40, ax = ax)\n",
    "for p in ax.patches: \n",
    "    ax.annotate(np.round(p.get_height(),decimals=2), (p.get_x()+p.get_width()/5., p.get_height()))"
   ]
  },
  {
   "cell_type": "markdown",
   "metadata": {},
   "source": [
    "## 2. Gene connectivity statistics"
   ]
  },
  {
   "cell_type": "markdown",
   "metadata": {},
   "source": [
    "### 2.1 Genes with highest number of drug interactions leading to it's upregulation"
   ]
  },
  {
   "cell_type": "code",
   "execution_count": 3,
   "metadata": {},
   "outputs": [
    {
     "data": {
      "image/png": "[encoded data removed]",
      "text/plain": [
       "<Figure size 720x360 with 1 Axes>"
      ]
     },
     "metadata": {
      "needs_background": "light"
     },
     "output_type": "display_data"
    }
   ],
   "source": [
    "q = \"\"\"MATCH (b:gene)\n",
    "WITH b, SIZE(()-[:upregulates]->(b)) as upregulation_count\n",
    "ORDER BY upregulation_count DESC LIMIT 10\n",
    "MATCH (a)-[:upregulates]->(b)\n",
    "RETURN b.Name as Gene_Name, COUNT(a.Name) as Drugs\"\"\"\n",
    "\n",
    "results=session.run(q)\n",
    "data=pd.DataFrame(results.data())\n",
    "\n",
    "fig = plt.figure(figsize = (10, 5))\n",
    " \n",
    "# creating the bar plot\n",
    "plt.bar(data[\"Gene_Name\"], data[\"Drugs\"], color ='maroon',\n",
    "        width = 0.4)\n",
    " \n",
    "plt.xlabel(\"Gene Name\")\n",
    "plt.ylabel(\"No. of drug interactions\")\n",
    "plt.title(\"Genes with highest number of drug interactions leading to it's upregulation\")\n",
    "plt.show()"
   ]
  },
  {
   "cell_type": "markdown",
   "metadata": {},
   "source": [
    "### 2.2 Genes with highest number of drug interactions leading to it's downregulation"
   ]
  },
  {
   "cell_type": "code",
   "execution_count": 4,
   "metadata": {},
   "outputs": [
    {
     "data": {
      "image/png": "[encoded data removed]",
      "text/plain": [
       "<Figure size 720x360 with 1 Axes>"
      ]
     },
     "metadata": {
      "needs_background": "light"
     },
     "output_type": "display_data"
    }
   ],
   "source": [
    "q = \"\"\"MATCH (b:gene)\n",
    "WITH b, SIZE(()-[:downregulates]->(b)) as downregulation_count\n",
    "ORDER BY downregulation_count DESC LIMIT 10\n",
    "MATCH (a)-[:downregulates]->(b)\n",
    "RETURN b.Name as Gene_Name, COUNT(a.Name) as Drugs\"\"\"\n",
    "\n",
    "results=session.run(q)\n",
    "data=pd.DataFrame(results.data())\n",
    "\n",
    "fig = plt.figure(figsize = (10, 5))\n",
    " \n",
    "# creating the bar plot\n",
    "plt.bar(data[\"Gene_Name\"], data[\"Drugs\"], color ='maroon',\n",
    "        width = 0.4)\n",
    " \n",
    "plt.xlabel(\"Gene Name\")\n",
    "plt.ylabel(\"No. of drug interactions\")\n",
    "plt.title(\"Genes with highest number of drug interactions leading to it's downregulation\")\n",
    "plt.show()"
   ]
  },
  {
   "cell_type": "markdown",
   "metadata": {},
   "source": [
    "### 2.3 Genes that are downregulated with Non-Small Cell Lung Carcinoma"
   ]
  },
  {
   "cell_type": "code",
   "execution_count": 5,
   "metadata": {},
   "outputs": [
    {
     "data": {
      "text/html": [
       "<div>\n",
       "<style scoped>\n",
       "    .dataframe tbody tr th:only-of-type {\n",
       "        vertical-align: middle;\n",
       "    }\n",
       "\n",
       "    .dataframe tbody tr th {\n",
       "        vertical-align: top;\n",
       "    }\n",
       "\n",
       "    .dataframe thead th {\n",
       "        text-align: right;\n",
       "    }\n",
       "</style>\n",
       "<table border=\"1\" class=\"dataframe\">\n",
       "  <thead>\n",
       "    <tr style=\"text-align: right;\">\n",
       "      <th></th>\n",
       "      <th>Disease</th>\n",
       "      <th>Gene_Name</th>\n",
       "    </tr>\n",
       "  </thead>\n",
       "  <tbody>\n",
       "    <tr>\n",
       "      <th>0</th>\n",
       "      <td>Non-Small Cell Lung Carcinoma</td>\n",
       "      <td>TXLNA</td>\n",
       "    </tr>\n",
       "    <tr>\n",
       "      <th>1</th>\n",
       "      <td>Non-Small Cell Lung Carcinoma</td>\n",
       "      <td>EBNA1BP2</td>\n",
       "    </tr>\n",
       "    <tr>\n",
       "      <th>2</th>\n",
       "      <td>Non-Small Cell Lung Carcinoma</td>\n",
       "      <td>ECH1</td>\n",
       "    </tr>\n",
       "    <tr>\n",
       "      <th>3</th>\n",
       "      <td>Non-Small Cell Lung Carcinoma</td>\n",
       "      <td>RRAGA</td>\n",
       "    </tr>\n",
       "    <tr>\n",
       "      <th>4</th>\n",
       "      <td>Non-Small Cell Lung Carcinoma</td>\n",
       "      <td>PAPD7</td>\n",
       "    </tr>\n",
       "  </tbody>\n",
       "</table>\n",
       "</div>"
      ],
      "text/plain": [
       "                         Disease Gene_Name\n",
       "0  Non-Small Cell Lung Carcinoma     TXLNA\n",
       "1  Non-Small Cell Lung Carcinoma  EBNA1BP2\n",
       "2  Non-Small Cell Lung Carcinoma      ECH1\n",
       "3  Non-Small Cell Lung Carcinoma     RRAGA\n",
       "4  Non-Small Cell Lung Carcinoma     PAPD7"
      ]
     },
     "execution_count": 5,
     "metadata": {},
     "output_type": "execute_result"
    }
   ],
   "source": [
    "q = \"\"\"MATCH (b:gene)\n",
    "WITH b, SIZE(()-[:downregulates]->(b)) as downregulation_count\n",
    "ORDER BY downregulation_count DESC\n",
    "MATCH (a)-[:downregulates]->(b)\n",
    "WHERE a.Name = 'Non-Small Cell Lung Carcinoma'\n",
    "RETURN (a.Name) as Disease, b.Name as Gene_Name\"\"\"\n",
    "\n",
    "results=session.run(q)\n",
    "data = pd.DataFrame(results.data())\n",
    "data.head()"
   ]
  },
  {
   "cell_type": "markdown",
   "metadata": {},
   "source": [
    "### 2.4 Genes that are upregulated with Non-Small Cell Lung Carcinoma"
   ]
  },
  {
   "cell_type": "code",
   "execution_count": 6,
   "metadata": {},
   "outputs": [
    {
     "data": {
      "text/html": [
       "<div>\n",
       "<style scoped>\n",
       "    .dataframe tbody tr th:only-of-type {\n",
       "        vertical-align: middle;\n",
       "    }\n",
       "\n",
       "    .dataframe tbody tr th {\n",
       "        vertical-align: top;\n",
       "    }\n",
       "\n",
       "    .dataframe thead th {\n",
       "        text-align: right;\n",
       "    }\n",
       "</style>\n",
       "<table border=\"1\" class=\"dataframe\">\n",
       "  <thead>\n",
       "    <tr style=\"text-align: right;\">\n",
       "      <th></th>\n",
       "      <th>Disease</th>\n",
       "      <th>Gene_Name</th>\n",
       "    </tr>\n",
       "  </thead>\n",
       "  <tbody>\n",
       "    <tr>\n",
       "      <th>0</th>\n",
       "      <td>Non-Small Cell Lung Carcinoma</td>\n",
       "      <td>PCK2</td>\n",
       "    </tr>\n",
       "    <tr>\n",
       "      <th>1</th>\n",
       "      <td>Non-Small Cell Lung Carcinoma</td>\n",
       "      <td>SYPL1</td>\n",
       "    </tr>\n",
       "    <tr>\n",
       "      <th>2</th>\n",
       "      <td>Non-Small Cell Lung Carcinoma</td>\n",
       "      <td>CHM</td>\n",
       "    </tr>\n",
       "    <tr>\n",
       "      <th>3</th>\n",
       "      <td>Non-Small Cell Lung Carcinoma</td>\n",
       "      <td>PLSCR1</td>\n",
       "    </tr>\n",
       "    <tr>\n",
       "      <th>4</th>\n",
       "      <td>Non-Small Cell Lung Carcinoma</td>\n",
       "      <td>SOX2</td>\n",
       "    </tr>\n",
       "  </tbody>\n",
       "</table>\n",
       "</div>"
      ],
      "text/plain": [
       "                         Disease Gene_Name\n",
       "0  Non-Small Cell Lung Carcinoma      PCK2\n",
       "1  Non-Small Cell Lung Carcinoma     SYPL1\n",
       "2  Non-Small Cell Lung Carcinoma       CHM\n",
       "3  Non-Small Cell Lung Carcinoma    PLSCR1\n",
       "4  Non-Small Cell Lung Carcinoma      SOX2"
      ]
     },
     "execution_count": 6,
     "metadata": {},
     "output_type": "execute_result"
    }
   ],
   "source": [
    "q = \"\"\"MATCH (b:gene)\n",
    "WITH b, SIZE(()-[:upregulates]->(b)) as upregulation_count\n",
    "ORDER BY upregulation_count DESC\n",
    "MATCH (a)-[:upregulates]->(b)\n",
    "WHERE a.Name = 'Non-Small Cell Lung Carcinoma'\n",
    "RETURN (a.Name) as Disease, b.Name as Gene_Name\"\"\"\n",
    "\n",
    "results=session.run(q)\n",
    "data=pd.DataFrame(results.data())\n",
    "data.head()"
   ]
  },
  {
   "cell_type": "markdown",
   "metadata": {},
   "source": [
    "## 3 Drug connectivity statistics"
   ]
  },
  {
   "cell_type": "markdown",
   "metadata": {},
   "source": [
    "### 3.1 What one drug is interacting the most with the downregulated genes?"
   ]
  },
  {
   "cell_type": "code",
   "execution_count": 7,
   "metadata": {},
   "outputs": [
    {
     "data": {
      "text/html": [
       "<div>\n",
       "<style scoped>\n",
       "    .dataframe tbody tr th:only-of-type {\n",
       "        vertical-align: middle;\n",
       "    }\n",
       "\n",
       "    .dataframe tbody tr th {\n",
       "        vertical-align: top;\n",
       "    }\n",
       "\n",
       "    .dataframe thead th {\n",
       "        text-align: right;\n",
       "    }\n",
       "</style>\n",
       "<table border=\"1\" class=\"dataframe\">\n",
       "  <thead>\n",
       "    <tr style=\"text-align: right;\">\n",
       "      <th></th>\n",
       "      <th>Gene_Name</th>\n",
       "      <th>Drugs</th>\n",
       "    </tr>\n",
       "  </thead>\n",
       "  <tbody>\n",
       "    <tr>\n",
       "      <th>0</th>\n",
       "      <td>SLC4A7</td>\n",
       "      <td>alvocidib</td>\n",
       "    </tr>\n",
       "    <tr>\n",
       "      <th>1</th>\n",
       "      <td>NUBP1</td>\n",
       "      <td>alvocidib</td>\n",
       "    </tr>\n",
       "    <tr>\n",
       "      <th>2</th>\n",
       "      <td>FOXJ3</td>\n",
       "      <td>alvocidib</td>\n",
       "    </tr>\n",
       "    <tr>\n",
       "      <th>3</th>\n",
       "      <td>PPP4R3A</td>\n",
       "      <td>alvocidib</td>\n",
       "    </tr>\n",
       "    <tr>\n",
       "      <th>4</th>\n",
       "      <td>SLC22A3</td>\n",
       "      <td>alvocidib</td>\n",
       "    </tr>\n",
       "  </tbody>\n",
       "</table>\n",
       "</div>"
      ],
      "text/plain": [
       "  Gene_Name      Drugs\n",
       "0    SLC4A7  alvocidib\n",
       "1     NUBP1  alvocidib\n",
       "2     FOXJ3  alvocidib\n",
       "3   PPP4R3A  alvocidib\n",
       "4   SLC22A3  alvocidib"
      ]
     },
     "execution_count": 7,
     "metadata": {},
     "output_type": "execute_result"
    }
   ],
   "source": [
    "q = \"\"\"MATCH (b:drug)\n",
    "WITH b, SIZE((b)-[:downregulates]->()) as downregulation_count\n",
    "ORDER BY downregulation_count DESC LIMIT 5\n",
    "MATCH (b)-[:downregulates]->(c)\n",
    "RETURN c.Name as Gene_Name, (b.Name) as Drugs\"\"\"\n",
    "\n",
    "results=session.run(q)\n",
    "data=pd.DataFrame(results.data())\n",
    "data.head()"
   ]
  },
  {
   "cell_type": "code",
   "execution_count": 8,
   "metadata": {},
   "outputs": [
    {
     "data": {
      "image/png": "[encoded data removed]",
      "text/plain": [
       "<Figure size 720x360 with 1 Axes>"
      ]
     },
     "metadata": {
      "needs_background": "light"
     },
     "output_type": "display_data"
    }
   ],
   "source": [
    "data_2 = pd.DataFrame.from_dict(Counter(data['Drugs']), orient='index').reset_index()\n",
    "data_2.columns = ['Drug', 'downregulation_count']\n",
    "\n",
    "fig = plt.figure(figsize = (10, 5))\n",
    " \n",
    "# creating the bar plot\n",
    "plt.bar(data_2[\"Drug\"], data_2[\"downregulation_count\"], color ='maroon',\n",
    "        width = 0.4)\n",
    " \n",
    "plt.xlabel(\"Drug\")\n",
    "plt.ylabel(\"No. of drug interactions\")\n",
    "plt.title(\"Drugs interacting the most with the downregulated genes?\")\n",
    "plt.show()"
   ]
  },
  {
   "cell_type": "markdown",
   "metadata": {},
   "source": [
    "### 3.2 What one drug is interacting the most with the upregulated genes?"
   ]
  },
  {
   "cell_type": "code",
   "execution_count": 9,
   "metadata": {},
   "outputs": [
    {
     "data": {
      "text/html": [
       "<div>\n",
       "<style scoped>\n",
       "    .dataframe tbody tr th:only-of-type {\n",
       "        vertical-align: middle;\n",
       "    }\n",
       "\n",
       "    .dataframe tbody tr th {\n",
       "        vertical-align: top;\n",
       "    }\n",
       "\n",
       "    .dataframe thead th {\n",
       "        text-align: right;\n",
       "    }\n",
       "</style>\n",
       "<table border=\"1\" class=\"dataframe\">\n",
       "  <thead>\n",
       "    <tr style=\"text-align: right;\">\n",
       "      <th></th>\n",
       "      <th>Gene_Name</th>\n",
       "      <th>Drugs</th>\n",
       "    </tr>\n",
       "  </thead>\n",
       "  <tbody>\n",
       "    <tr>\n",
       "      <th>0</th>\n",
       "      <td>DUSP13</td>\n",
       "      <td>BRD-K93367411</td>\n",
       "    </tr>\n",
       "    <tr>\n",
       "      <th>1</th>\n",
       "      <td>ADPRM</td>\n",
       "      <td>BRD-K93367411</td>\n",
       "    </tr>\n",
       "    <tr>\n",
       "      <th>2</th>\n",
       "      <td>GMEB2</td>\n",
       "      <td>BRD-K93367411</td>\n",
       "    </tr>\n",
       "    <tr>\n",
       "      <th>3</th>\n",
       "      <td>HNRNPH3</td>\n",
       "      <td>BRD-K93367411</td>\n",
       "    </tr>\n",
       "    <tr>\n",
       "      <th>4</th>\n",
       "      <td>WDYHV1</td>\n",
       "      <td>BRD-K93367411</td>\n",
       "    </tr>\n",
       "  </tbody>\n",
       "</table>\n",
       "</div>"
      ],
      "text/plain": [
       "  Gene_Name          Drugs\n",
       "0    DUSP13  BRD-K93367411\n",
       "1     ADPRM  BRD-K93367411\n",
       "2     GMEB2  BRD-K93367411\n",
       "3   HNRNPH3  BRD-K93367411\n",
       "4    WDYHV1  BRD-K93367411"
      ]
     },
     "execution_count": 9,
     "metadata": {},
     "output_type": "execute_result"
    }
   ],
   "source": [
    "q = \"\"\"MATCH (b:drug)\n",
    "WITH b, SIZE((b)-[:upregulates]->()) as upregulation_count\n",
    "ORDER BY upregulation_count DESC LIMIT 5\n",
    "MATCH (b)-[:upregulates]->(c)\n",
    "RETURN c.Name as Gene_Name, (b.Name) as Drugs\"\"\"\n",
    "\n",
    "results=session.run(q)\n",
    "data=pd.DataFrame(results.data())\n",
    "data.head()"
   ]
  },
  {
   "cell_type": "code",
   "execution_count": 10,
   "metadata": {},
   "outputs": [
    {
     "data": {
      "image/png": "[encoded data removed]",
      "text/plain": [
       "<Figure size 720x360 with 1 Axes>"
      ]
     },
     "metadata": {
      "needs_background": "light"
     },
     "output_type": "display_data"
    }
   ],
   "source": [
    "data_3 = pd.DataFrame.from_dict(Counter(data['Drugs']), orient='index').reset_index()\n",
    "data_3.columns = ['Drug', 'upregulation_count']\n",
    "\n",
    "fig = plt.figure(figsize = (10, 5))\n",
    " \n",
    "# creating the bar plot\n",
    "plt.bar(data_3[\"Drug\"], data_3[\"upregulation_count\"], color ='maroon',\n",
    "        width = 0.4)\n",
    " \n",
    "plt.xlabel(\"Drug\")\n",
    "plt.ylabel(\"No. of drug interactions\")\n",
    "plt.title(\"Drugs interacting the most with the upregulated genes?\")\n",
    "plt.show()"
   ]
  },
  {
   "cell_type": "markdown",
   "metadata": {},
   "source": [
    "## 4. Proteins with highest number of interactions"
   ]
  },
  {
   "cell_type": "code",
   "execution_count": 11,
   "metadata": {},
   "outputs": [
    {
     "data": {
      "text/html": [
       "<div>\n",
       "<style scoped>\n",
       "    .dataframe tbody tr th:only-of-type {\n",
       "        vertical-align: middle;\n",
       "    }\n",
       "\n",
       "    .dataframe tbody tr th {\n",
       "        vertical-align: top;\n",
       "    }\n",
       "\n",
       "    .dataframe thead th {\n",
       "        text-align: right;\n",
       "    }\n",
       "</style>\n",
       "<table border=\"1\" class=\"dataframe\">\n",
       "  <thead>\n",
       "    <tr style=\"text-align: right;\">\n",
       "      <th></th>\n",
       "      <th>Protein_node</th>\n",
       "      <th>Interacts_with</th>\n",
       "    </tr>\n",
       "  </thead>\n",
       "  <tbody>\n",
       "    <tr>\n",
       "      <th>0</th>\n",
       "      <td>AKT1</td>\n",
       "      <td>FKBP4</td>\n",
       "    </tr>\n",
       "    <tr>\n",
       "      <th>1</th>\n",
       "      <td>AKT1</td>\n",
       "      <td>CD74</td>\n",
       "    </tr>\n",
       "    <tr>\n",
       "      <th>2</th>\n",
       "      <td>AKT1</td>\n",
       "      <td>DVL2</td>\n",
       "    </tr>\n",
       "    <tr>\n",
       "      <th>3</th>\n",
       "      <td>AKT1</td>\n",
       "      <td>MAPK12</td>\n",
       "    </tr>\n",
       "    <tr>\n",
       "      <th>4</th>\n",
       "      <td>AKT1</td>\n",
       "      <td>CDH17</td>\n",
       "    </tr>\n",
       "  </tbody>\n",
       "</table>\n",
       "</div>"
      ],
      "text/plain": [
       "  Protein_node Interacts_with\n",
       "0         AKT1          FKBP4\n",
       "1         AKT1           CD74\n",
       "2         AKT1           DVL2\n",
       "3         AKT1         MAPK12\n",
       "4         AKT1          CDH17"
      ]
     },
     "execution_count": 11,
     "metadata": {},
     "output_type": "execute_result"
    }
   ],
   "source": [
    "q = \"\"\"MATCH (a:protein)-[r:interacts_with]->(b:protein)\n",
    "WITH b, \n",
    "     COUNT(r) AS authorsCount\n",
    "     ORDER BY authorsCount DESC LIMIT 10\n",
    "MATCH (b)<-[:interacts_with]-(a:protein)\n",
    "RETURN b.Preferred_name as Protein_node, a.Preferred_name as Interacts_with\n",
    "\"\"\"\n",
    "\n",
    "results=session.run(q)\n",
    "data=pd.DataFrame(results.data())\n",
    "data.head()"
   ]
  },
  {
   "cell_type": "markdown",
   "metadata": {},
   "source": [
    "## 5. Which drug reverses the most number of dysregulated NSCLC genes?"
   ]
  },
  {
   "cell_type": "markdown",
   "metadata": {},
   "source": [
    "### 5.1 Finding the drugs that upregulate the most number of downregulated NSCLC genes"
   ]
  },
  {
   "cell_type": "code",
   "execution_count": 10,
   "metadata": {},
   "outputs": [
    {
     "name": "stdout",
     "output_type": "stream",
     "text": [
      "            Drug  downregulation_count\n",
      "0      alvocidib                   121\n",
      "1     dinaciclib                   101\n",
      "2   camptothecin                    87\n",
      "3     trametinib                    56\n",
      "4   narciclasine                    53\n",
      "5  chelerythrine                    53\n",
      "6     entinostat                    52\n",
      "7    palbociclib                    52\n",
      "8       apicidin                    50\n",
      "9  BRD-K84203638                    47\n"
     ]
    },
    {
     "data": {
      "image/png": "[encoded data removed]",
      "text/plain": [
       "<Figure size 1440x360 with 1 Axes>"
      ]
     },
     "metadata": {
      "needs_background": "light"
     },
     "output_type": "display_data"
    }
   ],
   "source": [
    "q = \"\"\"\n",
    "MATCH ((disease {Name:'Non-Small Cell Lung Carcinoma'})-[:upregulates]->(gene)<-[r:downregulates]-(a:drug))\n",
    "WITH a,\n",
    "    COUNT(r) as downregulation_count\n",
    "    ORDER BY downregulation_count DESC LIMIT 10\n",
    "RETURN a.Name as Drug,downregulation_count\"\"\"\n",
    "\n",
    "results=session.run(q)\n",
    "data1=pd.DataFrame(results.data())\n",
    "print(data1)\n",
    "fig = plt.figure(figsize = (20, 5))\n",
    " \n",
    "# creating the bar plot\n",
    "plt.bar(data1[\"Drug\"], data1[\"downregulation_count\"], color ='maroon',\n",
    "        width = 0.4)\n",
    " \n",
    "plt.xlabel(\"Drug\")\n",
    "plt.ylabel(\"No. of downregulating genes\")\n",
    "plt.title(\"Drugs that upregulate the most number of downregulated NSCLC genes\")\n",
    "plt.show()"
   ]
  },
  {
   "cell_type": "markdown",
   "metadata": {},
   "source": [
    "### 5.2 Finding the drugs that downregulate the most number of upregulated NSCLC genes"
   ]
  },
  {
   "cell_type": "code",
   "execution_count": 11,
   "metadata": {},
   "outputs": [
    {
     "name": "stdout",
     "output_type": "stream",
     "text": [
      "            Drug  upregulation_count\n",
      "0  chelerythrine                 211\n",
      "1  BRD-K93367411                 189\n",
      "2      alvocidib                 129\n",
      "3       curcumin                 120\n",
      "4    gemcitabine                  85\n",
      "5   narciclasine                  84\n",
      "6  BRD-K84203638                  74\n",
      "7   camptothecin                  71\n",
      "8    saracatinib                  68\n",
      "9           A-66                  67\n"
     ]
    },
    {
     "data": {
      "image/png": "[encoded data removed]",
      "text/plain": [
       "<Figure size 1440x360 with 1 Axes>"
      ]
     },
     "metadata": {
      "needs_background": "light"
     },
     "output_type": "display_data"
    }
   ],
   "source": [
    "q = \"\"\"MATCH (disease {Name:'Non-Small Cell Lung Carcinoma'})-[:downregulates]->(gene)<-[r:upregulates]-(a:drug)\n",
    "WITH a,\n",
    "    COUNT(r) as upregulation_count\n",
    "    ORDER BY upregulation_count DESC LIMIT 10\n",
    "RETURN a.Name as Drug,upregulation_count\"\"\"\n",
    "\n",
    "results=session.run(q)\n",
    "data2=pd.DataFrame(results.data())\n",
    "print(data2)\n",
    "fig = plt.figure(figsize = (20, 5))\n",
    " \n",
    "# creating the bar plot\n",
    "plt.bar(data2[\"Drug\"], data2[\"upregulation_count\"], color ='maroon',\n",
    "        width = 0.4)\n",
    " \n",
    "plt.xlabel(\"Drug\")\n",
    "plt.ylabel(\"No. of up-regulating genes\")\n",
    "plt.title(\"Drugs that downregulate the most number of upregulated NSCLC genes\")\n",
    "plt.show()"
   ]
  },
  {
   "cell_type": "code",
   "execution_count": 26,
   "metadata": {},
   "outputs": [
    {
     "name": "stdout",
     "output_type": "stream",
     "text": [
      "             Drug  downregulation_count  upregulation_count  Total_regulations\n",
      "0   chelerythrine                  53.0               211.0              264.0\n",
      "1       alvocidib                 121.0               129.0              250.0\n",
      "2   BRD-K93367411                   0.0               189.0              189.0\n",
      "3    camptothecin                  87.0                71.0              158.0\n",
      "4    narciclasine                  53.0                84.0              137.0\n",
      "5   BRD-K84203638                  47.0                74.0              121.0\n",
      "6        curcumin                   0.0               120.0              120.0\n",
      "7      dinaciclib                 101.0                 0.0              101.0\n",
      "8     gemcitabine                   0.0                85.0               85.0\n",
      "9     saracatinib                   0.0                68.0               68.0\n",
      "10           A-66                   0.0                67.0               67.0\n",
      "11     trametinib                  56.0                 0.0               56.0\n",
      "12     entinostat                  52.0                 0.0               52.0\n",
      "13    palbociclib                  52.0                 0.0               52.0\n",
      "14       apicidin                  50.0                 0.0               50.0\n"
     ]
    }
   ],
   "source": [
    "combined_df = pd.merge(data1, data2, on='Drug', how='outer')\n",
    "\n",
    "#Replace NaN with 0\n",
    "combined_df = combined_df.fillna(0)\n",
    "\n",
    "#Create a new column that is the sum of the down_regulation and up_regulation columns\n",
    "combined_df['Total_regulations'] = combined_df['downregulation_count'] + combined_df['upregulation_count']\n",
    "combined_df = combined_df.sort_values(by=['Total_regulations'], ascending=False)\n",
    "combined_df.reset_index(drop=True, inplace=True)\n",
    "print(combined_df)"
   ]
  }
 ],
 "metadata": {
  "interpreter": {
   "hash": "aee8b7b246df8f9039afb4144a1f6fd8d2ca17a180786b69acc140d282b71a49"
  },
  "kernelspec": {
   "display_name": "Python 3 (ipykernel)",
   "language": "python",
   "name": "python3"
  },
  "language_info": {
   "codemirror_mode": {
    "name": "ipython",
    "version": 3
   },
   "file_extension": ".py",
   "mimetype": "text/x-python",
   "name": "python",
   "nbconvert_exporter": "python",
   "pygments_lexer": "ipython3",
   "version": "3.9.7"
  }
 },
 "nbformat": 4,
 "nbformat_minor": 2
}
