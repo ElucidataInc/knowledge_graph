{
 "cells": [
  {
   "cell_type": "markdown",
   "metadata": {
    "kernel": "SoS"
   },
   "source": [
    "# Welcome to Pollyglot Notebook."
   ]
  },
  {
   "cell_type": "code",
   "execution_count": 5,
   "metadata": {
    "kernel": "Pollyglot"
   },
   "outputs": [
    {
     "name": "stdout",
     "output_type": "stream",
     "text": [
      "Looking in indexes: https://pypi.org/simple, http://54.245.179.143:80/\n",
      "Collecting polly-python\n",
      "  Downloading https://files.pythonhosted.org/packages/f5/f8/75c00760daa1da6a53028d9f309450fa87f82f575588396aaf677ca8573e/polly_python-0.0.9-py3-none-any.whl\n",
      "Collecting scipy\n",
      "\u001b[?25l  Downloading https://files.pythonhosted.org/packages/c8/89/63171228d5ced148f5ced50305c89e8576ffc695a90b58fe5bb602b910c2/scipy-1.5.4-cp36-cp36m-manylinux1_x86_64.whl (25.9MB)\n",
      "\u001b[K     |████████████████████████████████| 25.9MB 8.4MB/s eta 0:00:01\n",
      "\u001b[?25hCollecting cmapPy (from polly-python)\n",
      "\u001b[?25l  Downloading https://files.pythonhosted.org/packages/e8/e1/9e90b0dc2051f4a3a2b9553b254889e93a2a3c7a3b925433c6298d99d596/cmapPy-4.0.1-py2.py3-none-any.whl (150kB)\n",
      "\u001b[K     |████████████████████████████████| 153kB 87.2MB/s eta 0:00:01\n",
      "\u001b[?25hCollecting boto3>=1.17.73 (from polly-python)\n",
      "\u001b[?25l  Downloading https://files.pythonhosted.org/packages/21/9a/37d4bf80e6492eee474b71dc70c284598ab60c1fe9cffc0e6d3b57e8efec/boto3-1.21.18-py3-none-any.whl (132kB)\n",
      "\u001b[K     |████████████████████████████████| 133kB 88.4MB/s eta 0:00:01\n",
      "\u001b[?25hCollecting six==1.16.0 (from polly-python)\n",
      "  Downloading https://files.pythonhosted.org/packages/d9/5a/e7c31adbe875f2abbb91bd84cf2dc52d792b5a01506781dbcf25c91daf11/six-1.16.0-py2.py3-none-any.whl\n",
      "Requirement already satisfied: pandas in /usr/local/lib/python3.6/dist-packages (from polly-python) (1.0.1)\n",
      "Collecting requests==2.25.1 (from polly-python)\n",
      "\u001b[?25l  Downloading https://files.pythonhosted.org/packages/29/c1/24814557f1d22c56d50280771a17307e6bf87b70727d975fd6b2ce6b014a/requests-2.25.1-py2.py3-none-any.whl (61kB)\n",
      "\u001b[K     |████████████████████████████████| 61kB 41.6MB/s eta 0:00:01\n",
      "\u001b[?25hCollecting Deprecated (from polly-python)\n",
      "  Downloading https://files.pythonhosted.org/packages/51/6a/c3a0408646408f7283b7bc550c30a32cc791181ec4618592eec13e066ce3/Deprecated-1.2.13-py2.py3-none-any.whl\n",
      "Requirement already satisfied: python-dateutil==2.8.1 in /usr/local/lib/python3.6/dist-packages (from polly-python) (2.8.1)\n",
      "Collecting postpy2==0.0.6 (from polly-python)\n",
      "  Downloading https://files.pythonhosted.org/packages/7e/25/d98f5ea87d937bf44963be78b504dbb3ddea1c6ddfcc0985b02d062b41dd/postpy2-0.0.6-py3-none-any.whl\n",
      "Collecting pytz==2021.1 (from polly-python)\n",
      "\u001b[?25l  Downloading https://files.pythonhosted.org/packages/70/94/784178ca5dd892a98f113cdd923372024dc04b8d40abe77ca76b5fb90ca6/pytz-2021.1-py2.py3-none-any.whl (510kB)\n",
      "\u001b[K     |████████████████████████████████| 512kB 86.8MB/s eta 0:00:01\n",
      "\u001b[?25hCollecting black (from polly-python)\n",
      "\u001b[?25l  Downloading https://files.pythonhosted.org/packages/a5/59/bd6d44da2b364fd2bd7a0b2ce2edfe200b79faad1cde14ce5ef13d504393/black-22.1.0-py3-none-any.whl (160kB)\n",
      "\u001b[K     |████████████████████████████████| 163kB 86.2MB/s eta 0:00:01\n",
      "\u001b[?25hCollecting python-magic==0.4.24 (from polly-python)\n",
      "  Downloading https://files.pythonhosted.org/packages/d3/99/c89223c6547df268596899334ee77b3051f606077317023617b1c43162fb/python_magic-0.4.24-py2.py3-none-any.whl\n",
      "Collecting urllib3==1.26.6 (from polly-python)\n",
      "\u001b[?25l  Downloading https://files.pythonhosted.org/packages/5f/64/43575537846896abac0b15c3e5ac678d787a4021e906703f1766bfb8ea11/urllib3-1.26.6-py2.py3-none-any.whl (138kB)\n",
      "\u001b[K     |████████████████████████████████| 143kB 86.4MB/s eta 0:00:01\n",
      "\u001b[?25hCollecting botocore>=1.20.73 (from polly-python)\n",
      "\u001b[?25l  Downloading https://files.pythonhosted.org/packages/95/d5/43feed0994e578cf9ddea9fe90e9d6861823c036bf685020aeec6406284d/botocore-1.24.18-py3-none-any.whl (8.6MB)\n",
      "\u001b[K     |████████████████████████████████| 8.6MB 69.7MB/s eta 0:00:01\n",
      "\u001b[?25hCollecting elucidatacloudpathlib==0.6.6 (from polly-python)\n",
      "\u001b[?25l  Downloading https://files.pythonhosted.org/packages/b1/d6/5162b68817dd93130dc9421f23a299ee6b243c0ff8a806370727ff10090f/elucidatacloudpathlib-0.6.6-py3-none-any.whl (50kB)\n",
      "\u001b[K     |████████████████████████████████| 51kB 38.1MB/s eta 0:00:01\n",
      "\u001b[?25hCollecting idna==2.10 (from polly-python)\n",
      "\u001b[?25l  Downloading https://files.pythonhosted.org/packages/a2/38/928ddce2273eaa564f6f50de919327bf3a00f091b5baba8dfa9460f3a8a8/idna-2.10-py2.py3-none-any.whl (58kB)\n",
      "\u001b[K     |████████████████████████████████| 61kB 42.5MB/s eta 0:00:01\n",
      "\u001b[?25hCollecting chardet==4.0.0 (from polly-python)\n",
      "\u001b[?25l  Downloading https://files.pythonhosted.org/packages/19/c7/fa589626997dd07bd87d9269342ccb74b1720384a4d739a1872bd84fbe68/chardet-4.0.0-py2.py3-none-any.whl (178kB)\n",
      "\u001b[K     |████████████████████████████████| 184kB 83.8MB/s eta 0:00:01\n",
      "\u001b[?25hCollecting retrying==1.3.3 (from polly-python)\n",
      "  Downloading https://files.pythonhosted.org/packages/44/ef/beae4b4ef80902f22e3af073397f079c96969c69b2c7d52a57ea9ae61c9d/retrying-1.3.3.tar.gz\n",
      "Collecting certifi==2021.5.30 (from polly-python)\n",
      "\u001b[?25l  Downloading https://files.pythonhosted.org/packages/05/1b/0a0dece0e8aa492a6ec9e4ad2fe366b511558cdc73fd3abc82ba7348e875/certifi-2021.5.30-py2.py3-none-any.whl (145kB)\n",
      "\u001b[K     |████████████████████████████████| 153kB 83.4MB/s eta 0:00:01\n",
      "\u001b[?25hRequirement already satisfied: numpy>=1.14.5 in /usr/local/lib/python3.6/dist-packages (from scipy) (1.18.1)\n",
      "Collecting h5py>=2.6.0 (from cmapPy->polly-python)\n",
      "\u001b[?25l  Downloading https://files.pythonhosted.org/packages/70/7a/e53e500335afb6b1aade11227cdf107fca54106a1dca5c9d13242a043f3b/h5py-3.1.0-cp36-cp36m-manylinux1_x86_64.whl (4.0MB)\n",
      "\u001b[K     |████████████████████████████████| 4.0MB 74.3MB/s eta 0:00:01\n",
      "\u001b[?25hRequirement already satisfied: jmespath<1.0.0,>=0.7.1 in /usr/local/lib/python3.6/dist-packages (from boto3>=1.17.73->polly-python) (0.9.5)\n",
      "Collecting s3transfer<0.6.0,>=0.5.0 (from boto3>=1.17.73->polly-python)\n",
      "\u001b[?25l  Downloading https://files.pythonhosted.org/packages/7b/9c/f51775ebe7df5a7aa4e7c79ed671bde94e154bd968aca8d65bb24aba0c8c/s3transfer-0.5.2-py3-none-any.whl (79kB)\n",
      "\u001b[K     |████████████████████████████████| 81kB 52.1MB/s eta 0:00:01\n",
      "\u001b[?25hCollecting wrapt<2,>=1.10 (from Deprecated->polly-python)\n",
      "\u001b[?25l  Downloading https://files.pythonhosted.org/packages/ba/8c/3d3dff02ae905157ba417b801f4a7aa4e6fedbc43882e9c765b7aae438ac/wrapt-1.14.0-cp36-cp36m-manylinux_2_5_x86_64.manylinux1_x86_64.manylinux_2_17_x86_64.manylinux2014_x86_64.whl (74kB)\n",
      "\u001b[K     |████████████████████████████████| 81kB 49.9MB/s eta 0:00:01\n",
      "\u001b[?25hCollecting tomli>=1.1.0 (from black->polly-python)\n",
      "  Downloading https://files.pythonhosted.org/packages/05/e4/74f9440db36734d7ba83c574c1e7024009ce849208a41f90e94a134dc6d1/tomli-1.2.3-py3-none-any.whl\n",
      "Collecting dataclasses>=0.6; python_version < \"3.7\" (from black->polly-python)\n",
      "  Downloading https://files.pythonhosted.org/packages/fe/ca/75fac5856ab5cfa51bbbcefa250182e50441074fdc3f803f6e76451fab43/dataclasses-0.8-py3-none-any.whl\n",
      "Collecting typed-ast>=1.4.2; python_version < \"3.8\" and implementation_name == \"cpython\" (from black->polly-python)\n",
      "\u001b[?25l  Downloading https://files.pythonhosted.org/packages/be/0a/dead69851299544df9ee31259747268962014a10db2fbec6c8a5fbb37a0d/typed_ast-1.5.2-cp36-cp36m-manylinux_2_5_x86_64.manylinux1_x86_64.manylinux_2_12_x86_64.manylinux2010_x86_64.whl (831kB)\n",
      "\u001b[K     |████████████████████████████████| 839kB 88.5MB/s eta 0:00:01\n",
      "\u001b[?25hCollecting typing-extensions>=3.10.0.0; python_version < \"3.10\" (from black->polly-python)\n",
      "  Downloading https://files.pythonhosted.org/packages/45/6b/44f7f8f1e110027cf88956b59f2fad776cca7e1704396d043f89effd3a0e/typing_extensions-4.1.1-py3-none-any.whl\n",
      "Collecting platformdirs>=2 (from black->polly-python)\n",
      "  Downloading https://files.pythonhosted.org/packages/b1/78/dcfd84d3aabd46a9c77260fb47ea5d244806e4daef83aa6fe5d83adb182c/platformdirs-2.4.0-py3-none-any.whl\n",
      "Collecting mypy-extensions>=0.4.3 (from black->polly-python)\n",
      "  Downloading https://files.pythonhosted.org/packages/5c/eb/975c7c080f3223a5cdaff09612f3a5221e4ba534f7039db34c35d95fa6a5/mypy_extensions-0.4.3-py2.py3-none-any.whl\n",
      "Collecting pathspec>=0.9.0 (from black->polly-python)\n",
      "  Downloading https://files.pythonhosted.org/packages/42/ba/a9d64c7bcbc7e3e8e5f93a52721b377e994c22d16196e2b0f1236774353a/pathspec-0.9.0-py2.py3-none-any.whl\n",
      "Collecting click>=8.0.0 (from black->polly-python)\n",
      "\u001b[?25l  Downloading https://files.pythonhosted.org/packages/4a/a8/0b2ced25639fb20cc1c9784de90a8c25f9504a7f18cd8b5397bd61696d7d/click-8.0.4-py3-none-any.whl (97kB)\n",
      "\u001b[K     |████████████████████████████████| 102kB 56.6MB/s ta 0:00:01\n",
      "\u001b[?25hRequirement already satisfied: importlib-metadata; python_version < \"3.8\" in /usr/local/lib/python3.6/dist-packages (from elucidatacloudpathlib==0.6.6->polly-python) (1.5.0)\n",
      "Collecting cached-property; python_version < \"3.8\" (from h5py>=2.6.0->cmapPy->polly-python)\n",
      "  Downloading https://files.pythonhosted.org/packages/48/19/f2090f7dad41e225c7f2326e4cfe6fff49e57dedb5b53636c9551f86b069/cached_property-1.5.2-py2.py3-none-any.whl\n",
      "Requirement already satisfied: zipp>=0.5 in /usr/local/lib/python3.6/dist-packages (from importlib-metadata; python_version < \"3.8\"->elucidatacloudpathlib==0.6.6->polly-python) (3.1.0)\n",
      "Building wheels for collected packages: retrying\n",
      "  Building wheel for retrying (setup.py) ... \u001b[?25ldone\n",
      "\u001b[?25h  Created wheel for retrying: filename=retrying-1.3.3-cp36-none-any.whl size=11431 sha256=348107381921a30e4f831406878661905f446b5ada34b7896c402b798320df29\n",
      "  Stored in directory: /home/polly/.cache/pip/wheels/d7/a9/33/acc7b709e2a35caa7d4cae442f6fe6fbf2c43f80823d46460c\n",
      "Successfully built retrying\n",
      "\u001b[31mERROR: awscli 1.18.178 has requirement botocore==1.19.18, but you'll have botocore 1.24.18 which is incompatible.\u001b[0m\n",
      "\u001b[31mERROR: awscli 1.18.178 has requirement s3transfer<0.4.0,>=0.3.0, but you'll have s3transfer 0.5.2 which is incompatible.\u001b[0m\n",
      "Installing collected packages: cached-property, h5py, urllib3, idna, chardet, certifi, requests, six, cmapPy, botocore, s3transfer, boto3, wrapt, Deprecated, python-magic, postpy2, pytz, tomli, dataclasses, typed-ast, typing-extensions, platformdirs, mypy-extensions, pathspec, click, black, elucidatacloudpathlib, retrying, polly-python, scipy\n",
      "  Found existing installation: urllib3 1.26.2\n",
      "    Uninstalling urllib3-1.26.2:\n",
      "      Successfully uninstalled urllib3-1.26.2\n",
      "  Found existing installation: idna 2.8\n",
      "    Uninstalling idna-2.8:\n",
      "      Successfully uninstalled idna-2.8\n",
      "  Found existing installation: chardet 3.0.4\n",
      "    Uninstalling chardet-3.0.4:\n",
      "      Successfully uninstalled chardet-3.0.4\n",
      "  Found existing installation: certifi 2019.11.28\n",
      "    Uninstalling certifi-2019.11.28:\n",
      "      Successfully uninstalled certifi-2019.11.28\n",
      "  Found existing installation: requests 2.25.0\n",
      "    Uninstalling requests-2.25.0:\n",
      "      Successfully uninstalled requests-2.25.0\n",
      "  Found existing installation: six 1.14.0\n",
      "    Uninstalling six-1.14.0:\n",
      "      Successfully uninstalled six-1.14.0\n",
      "  Found existing installation: botocore 1.19.18\n",
      "    Uninstalling botocore-1.19.18:\n",
      "      Successfully uninstalled botocore-1.19.18\n",
      "  Found existing installation: s3transfer 0.3.3\n",
      "    Uninstalling s3transfer-0.3.3:\n",
      "      Successfully uninstalled s3transfer-0.3.3\n",
      "  Found existing installation: boto3 1.17.4\n",
      "    Uninstalling boto3-1.17.4:\n",
      "      Successfully uninstalled boto3-1.17.4\n",
      "  Found existing installation: pytz 2019.3\n",
      "    Uninstalling pytz-2019.3:\n",
      "      Successfully uninstalled pytz-2019.3\n",
      "Successfully installed Deprecated-1.2.13 black-22.1.0 boto3-1.21.18 botocore-1.24.18 cached-property-1.5.2 certifi-2021.5.30 chardet-4.0.0 click-8.0.4 cmapPy-4.0.1 dataclasses-0.8 elucidatacloudpathlib-0.6.6 h5py-3.1.0 idna-2.10 mypy-extensions-0.4.3 pathspec-0.9.0 platformdirs-2.4.0 polly-python-0.0.9 postpy2-0.0.6 python-magic-0.4.24 pytz-2021.1 requests-2.25.1 retrying-1.3.3 s3transfer-0.5.2 scipy-1.5.4 six-1.16.0 tomli-1.2.3 typed-ast-1.5.2 typing-extensions-4.1.1 urllib3-1.26.6 wrapt-1.14.0\n",
      "\u001b[33mWARNING: You are using pip version 19.2.3, however version 21.3.1 is available.\n",
      "You should consider upgrading via the 'pip install --upgrade pip' command.\u001b[0m\n"
     ]
    }
   ],
   "source": [
    "#!sudo pip install --upgrade pip\n",
    "!sudo pip3 install polly-python scipy"
   ]
  },
  {
   "cell_type": "code",
   "execution_count": 6,
   "metadata": {
    "kernel": "Pollyglot"
   },
   "outputs": [
    {
     "name": "stdout",
     "output_type": "stream",
     "text": [
      "Looking in indexes: https://pypi.org/simple, http://54.245.179.143:80/\n",
      "Requirement already satisfied: polly-python in /usr/local/lib/python3.6/dist-packages (0.0.9)\n",
      "Collecting joblib\n",
      "\u001b[?25l  Downloading https://files.pythonhosted.org/packages/3e/d5/0163eb0cfa0b673aa4fe1cd3ea9d8a81ea0f32e50807b0c295871e4aab2e/joblib-1.1.0-py2.py3-none-any.whl (306kB)\n",
      "\u001b[K     |████████████████████████████████| 307kB 5.1MB/s eta 0:00:01\n",
      "\u001b[?25hRequirement already satisfied: botocore>=1.20.73 in /usr/local/lib/python3.6/dist-packages (from polly-python) (1.24.18)\n",
      "Requirement already satisfied: elucidatacloudpathlib==0.6.6 in /usr/local/lib/python3.6/dist-packages (from polly-python) (0.6.6)\n",
      "Requirement already satisfied: postpy2==0.0.6 in /usr/local/lib/python3.6/dist-packages (from polly-python) (0.0.6)\n",
      "Requirement already satisfied: pandas in /usr/local/lib/python3.6/dist-packages (from polly-python) (1.0.1)\n",
      "Requirement already satisfied: retrying==1.3.3 in /usr/local/lib/python3.6/dist-packages (from polly-python) (1.3.3)\n",
      "Requirement already satisfied: python-dateutil==2.8.1 in /usr/local/lib/python3.6/dist-packages (from polly-python) (2.8.1)\n",
      "Requirement already satisfied: Deprecated in /usr/local/lib/python3.6/dist-packages (from polly-python) (1.2.13)\n",
      "Requirement already satisfied: requests==2.25.1 in /usr/local/lib/python3.6/dist-packages (from polly-python) (2.25.1)\n",
      "Requirement already satisfied: cmapPy in /usr/local/lib/python3.6/dist-packages (from polly-python) (4.0.1)\n",
      "Requirement already satisfied: idna==2.10 in /usr/local/lib/python3.6/dist-packages (from polly-python) (2.10)\n",
      "Requirement already satisfied: black in /usr/local/lib/python3.6/dist-packages (from polly-python) (22.1.0)\n",
      "Requirement already satisfied: certifi==2021.5.30 in /usr/local/lib/python3.6/dist-packages (from polly-python) (2021.5.30)\n",
      "Requirement already satisfied: boto3>=1.17.73 in /usr/local/lib/python3.6/dist-packages (from polly-python) (1.21.18)\n",
      "Requirement already satisfied: python-magic==0.4.24 in /usr/local/lib/python3.6/dist-packages (from polly-python) (0.4.24)\n",
      "Requirement already satisfied: chardet==4.0.0 in /usr/local/lib/python3.6/dist-packages (from polly-python) (4.0.0)\n",
      "Requirement already satisfied: pytz==2021.1 in /usr/local/lib/python3.6/dist-packages (from polly-python) (2021.1)\n",
      "Requirement already satisfied: six==1.16.0 in /usr/local/lib/python3.6/dist-packages (from polly-python) (1.16.0)\n",
      "Requirement already satisfied: urllib3==1.26.6 in /usr/local/lib/python3.6/dist-packages (from polly-python) (1.26.6)\n",
      "Requirement already satisfied: jmespath<1.0.0,>=0.7.1 in /usr/local/lib/python3.6/dist-packages (from botocore>=1.20.73->polly-python) (0.9.5)\n",
      "Requirement already satisfied: importlib-metadata; python_version < \"3.8\" in /usr/local/lib/python3.6/dist-packages (from elucidatacloudpathlib==0.6.6->polly-python) (1.5.0)\n",
      "Requirement already satisfied: numpy>=1.13.3 in /usr/local/lib/python3.6/dist-packages (from pandas->polly-python) (1.18.1)\n",
      "Requirement already satisfied: wrapt<2,>=1.10 in /usr/local/lib/python3.6/dist-packages (from Deprecated->polly-python) (1.14.0)\n",
      "Requirement already satisfied: h5py>=2.6.0 in /usr/local/lib/python3.6/dist-packages (from cmapPy->polly-python) (3.1.0)\n",
      "Requirement already satisfied: platformdirs>=2 in /usr/local/lib/python3.6/dist-packages (from black->polly-python) (2.4.0)\n",
      "Requirement already satisfied: tomli>=1.1.0 in /usr/local/lib/python3.6/dist-packages (from black->polly-python) (1.2.3)\n",
      "Requirement already satisfied: dataclasses>=0.6; python_version < \"3.7\" in /usr/local/lib/python3.6/dist-packages (from black->polly-python) (0.8)\n",
      "Requirement already satisfied: mypy-extensions>=0.4.3 in /usr/local/lib/python3.6/dist-packages (from black->polly-python) (0.4.3)\n",
      "Requirement already satisfied: typing-extensions>=3.10.0.0; python_version < \"3.10\" in /usr/local/lib/python3.6/dist-packages (from black->polly-python) (4.1.1)\n",
      "Requirement already satisfied: pathspec>=0.9.0 in /usr/local/lib/python3.6/dist-packages (from black->polly-python) (0.9.0)\n",
      "Requirement already satisfied: typed-ast>=1.4.2; python_version < \"3.8\" and implementation_name == \"cpython\" in /usr/local/lib/python3.6/dist-packages (from black->polly-python) (1.5.2)\n",
      "Requirement already satisfied: click>=8.0.0 in /usr/local/lib/python3.6/dist-packages (from black->polly-python) (8.0.4)\n",
      "Requirement already satisfied: s3transfer<0.6.0,>=0.5.0 in /usr/local/lib/python3.6/dist-packages (from boto3>=1.17.73->polly-python) (0.5.2)\n",
      "Requirement already satisfied: zipp>=0.5 in /usr/local/lib/python3.6/dist-packages (from importlib-metadata; python_version < \"3.8\"->elucidatacloudpathlib==0.6.6->polly-python) (3.1.0)\n",
      "Requirement already satisfied: cached-property; python_version < \"3.8\" in /usr/local/lib/python3.6/dist-packages (from h5py>=2.6.0->cmapPy->polly-python) (1.5.2)\n",
      "Installing collected packages: joblib\n",
      "Successfully installed joblib-1.1.0\n",
      "\u001b[33mWARNING: You are using pip version 19.2.3, however version 21.3.1 is available.\n",
      "You should consider upgrading via the 'pip install --upgrade pip' command.\u001b[0m\n"
     ]
    }
   ],
   "source": [
    "!sudo pip3 install polly-python joblib\n"
   ]
  },
  {
   "cell_type": "code",
   "execution_count": 7,
   "metadata": {
    "kernel": "Pollyglot"
   },
   "outputs": [
    {
     "name": "stdout",
     "output_type": "stream",
     "text": [
      "Looking in indexes: https://pypi.org/simple, http://54.245.179.143:80/\n",
      "Collecting statsmodels\n",
      "\u001b[?25l  Downloading https://files.pythonhosted.org/packages/0d/7b/c17815648dc31396af865b9c6627cc3f95705954e30f61106795361c39ee/statsmodels-0.12.2-cp36-cp36m-manylinux1_x86_64.whl (9.5MB)\n",
      "\u001b[K     |████████████████████████████████| 9.5MB 7.0MB/s eta 0:00:01\n",
      "\u001b[?25hCollecting patsy>=0.5 (from statsmodels)\n",
      "\u001b[?25l  Downloading https://files.pythonhosted.org/packages/87/7f/d37cd027c25145eeba92b1a756976931c831803d92547c8637a3400c339f/patsy-0.5.2-py2.py3-none-any.whl (233kB)\n",
      "\u001b[K     |████████████████████████████████| 235kB 88.2MB/s eta 0:00:01\n",
      "\u001b[?25hRequirement already satisfied: pandas>=0.21 in /usr/local/lib/python3.6/dist-packages (from statsmodels) (1.0.1)\n",
      "Requirement already satisfied: scipy>=1.1 in /usr/local/lib/python3.6/dist-packages (from statsmodels) (1.5.4)\n",
      "Requirement already satisfied: numpy>=1.15 in /usr/local/lib/python3.6/dist-packages (from statsmodels) (1.18.1)\n",
      "Requirement already satisfied: six in /usr/local/lib/python3.6/dist-packages (from patsy>=0.5->statsmodels) (1.16.0)\n",
      "Requirement already satisfied: pytz>=2017.2 in /usr/local/lib/python3.6/dist-packages (from pandas>=0.21->statsmodels) (2021.1)\n",
      "Requirement already satisfied: python-dateutil>=2.6.1 in /usr/local/lib/python3.6/dist-packages (from pandas>=0.21->statsmodels) (2.8.1)\n",
      "Installing collected packages: patsy, statsmodels\n",
      "Successfully installed patsy-0.5.2 statsmodels-0.12.2\n",
      "\u001b[33mWARNING: You are using pip version 19.2.3, however version 21.3.1 is available.\n",
      "You should consider upgrading via the 'pip install --upgrade pip' command.\u001b[0m\n"
     ]
    }
   ],
   "source": [
    "!sudo pip3 install statsmodels"
   ]
  },
  {
   "cell_type": "code",
   "execution_count": 1,
   "metadata": {
    "kernel": "Pollyglot"
   },
   "outputs": [],
   "source": [
    "import json\n",
    "import os\n",
    "import requests\n",
    "import pandas as pd\n",
    "import itertools\n",
    "import scipy.stats\n",
    "import numpy as np\n",
    "from cmapPy.pandasGEXpress.parse_gct import parse\n",
    "from scipy.stats import zscore\n",
    "from statsmodels.sandbox.stats import multicomp\n",
    "\n",
    "from polly.auth import Polly\n",
    "from polly.omixatlas import OmixAtlas\n",
    "from polly.workspaces import Workspaces\n",
    "\n",
    "\n",
    "refresh_token = \"eyJjdHkiOiJKV1QiLCJlbmMiOiJBMjU2R0NNIiwiYWxnIjoiUlNBLU9BRVAifQ.GrUC4WVU8h6EEo-uUTaI1ESZ0Wx6lBa4kH_xeOyY6Hhg_EFd3aVx7sD6x7rQX21UMqRjvgbITIRXB7ops7ZqkuiWwFZNE9bdHsFhxR67RxtPm4lQImgT7awTpKr4nVt8rY57SNV7ik-Cj_bTg_VSZ6IrFfBZWHCUQlwtEoXRHPPFg6Q51Pn06DRBAUi7P01X28AXD6NRMf4uvUpnx9KmeEHMRCrXHaS2pBA-y0JsWlJKjrM2M5qTbjDC1BKhp9xddIzZ2GD5_XXk4jofSYStKcG8O-QV9m6GQX4Ho0_u3DN9ukWWO8ujOjs1Wn8ZnfhfSsabgaFx21QfRSYW8iU5nw.AFgOMSew5txA6gF0.Kos8yANc2FrZhzqRoqk-SwdKKgsBQZtXKpTE6KwFI-vbAc7rWs04qjaTD1Kqcg7un5nOR_TXpjdn3at0G_dBpPs8Hp1o4Z8LHna847__aQiu06Nmcvld40idJDPxNCouJGRICVZLzTSKt9dtdp0DZnEO5Y1bKWlG7A-3kr8e4Bfa4kxHB5DhujXImYuttQv-Fb8oMFknkn3h1CWaf0rKmZ3fRsKnPUW-TmKc0JEk1A6d0_xIZssBjnpL4Tbd5pdg6ZkdGoy7GDzArE9JEFZBG_BIMiJHT2tkJc_Y67iWl2vWdSZ5OLNpGojgv3j1t-2fuHKcTLo0TFbXBvzAI_eKzy9r4wB5aEH_4k34FPlqh3M8kpYRq0DzmxXFHXLKvS1gfpQbHub5dziwIIOspitBuC4ps963dnE-1WledZTIsfzIiOESW5nKEccwPZ0OlAmcOiCkx67gwV5DIdcJoc9ESZnzLB8c7kqf0cbSMlBp4K36QADe2UwGBt7Nc54a_XsBQ2cpdCbKxK342NbZzqemZNuwBLwATp6-9yWo13gRDMlIJg1dKRwEB5cFlVsPVmQc0jrB1hohjX4rlJiAz5vBFpe8IYVwUKw9yFRh_dw_1ugKZAiMqCAadKZjonAc4QpwMSZLEKpj-r9Sxtm9h__ohtpMxl3QwtRofsBSzVBODsQV16M7cqlgJ8jRhv2Fo-nzT62Glv64FUN-jNmv9b7iEoNWM8mt9VV2hjt2fGcTWlZwXH_sSPQ2P70JxhSWGAK8yTCg6CjLhViqq_Dz49mrVS4cdfKVsv3H6agDUzl8dO0B01UFOUR0nuwbKscyjK8ieJ4VGK4trFy43HNBF9MNuGNdUte6ppWVlcbf5nRplq9RMMnrVeSmiRTmw-o6lnhARJuL3TOuWbb99zE_a84LcqlWtK2xDXIey3xV5b3VcJdsf1abu3MAUnsN2OCixZCWMp9iJikQsu0dn6HedUPxf4VvxTKkjAD6qLZT6pNgsaYzAvhilrcg9qrPa1yXQoXeT0Y1jhl1xzOcg0ljp-nk149pRnAbP7aLH08TArxcRW--e_Eb2SxGYgZuoR8GE6KQf4GQdJl92wX13Ynz6oQ3eNGj8o6vcz-3a3kdXsN92_XI3-1sqC5HbOvUE5q6DmEnWfJwsxiySn6VmgmRa48BJwrDNXM4aaFIZhTxM08jvOKUU82rQqTyQAW4134P53C8PrhUf9hGO0aLVT2ZuHBit541JEiHSu21GKmbJaE8Slsr4H-riNnDDiXD8c0YscBt7MMIhfeWY8rxw49wBn3FwbgTZdlGgdIyPFQTCXcKBD6kGa7RE1-YFb-V4Zs.hMASyWDl6LEVzoB5aaAsjQ\"\n",
    "Polly.auth(refresh_token)\n",
    "\n",
    "omixatlas = OmixAtlas()\n",
    "\n",
    "COOKIE='ajs_group_id=null; ajs_anonymous_id=\"e9db2822-7b0b-44fa-9318-10831324323e\"; _ga=GA1.2.2099724253.1643293219; G_ENABLED_IDPS=google; CognitoIdentityServiceProvider.3gphrakcgldiq04651jd6k773b.ba2ec3cc-dc55-4867-b740-6c73d455641e.refreshToken=eyJjdHkiOiJKV1QiLCJlbmMiOiJBMjU2R0NNIiwiYWxnIjoiUlNBLU9BRVAifQ.MAwsLE0EfXlrZzYGcIAE4GFHFWoGkQ5BEE_E4dYPzuNMWkzPBcK1Y0vNV5idyIH5FROu5ExbKlm0TIAucnOZ4byByywwkHiRnfhBnio3URNleq5gcUgP0VY80P89Ol6vHKT0GueOLFBJ555KPnPizE7cDvwbymwjCg16wP0B0-nR29pfeexLA7fqkvKLE_nx69vB4l8KLBlmH5NuLY-p2JwUxC07lKLWcwwO6ILiSwB5SDmoPcw3ODTs-3Ofmk89qjzHFPJSw6F9WEWXBgnhUo1FS8UabwX7ghN0v17QwMZmMhTVygIYuw9FrPkeD8xpJXwrOPRrwFPiWdYi7NjXpQ._mELvJQtxcWp9-nz.Iqctah1gv8YddGZFEwWP_lodZpa_QTEb556NDBUOrjT8zN2DeNpZlXbuNmnLlYsNC9eAfXmfaxOwZIKA7yN7ntr2lvXIalNVBYa12eCOg1mvvHsWlSptwoE8FnKgR_KsLavOdYx3RaVW7kd19jeLpRqpNjKISj-KSX4nGuaYUxCBW94ozaDcb-6ptgcjaErf_TlPYjfNzezd2ctWwNfKJTQQVl2MUttuPZbxyLbbpkUkbuR_2nC3FoiIEzQu1M4hD7C8MDbmmP19ZZKUfQhgyMfu2sTQ1X6QDONINRKYgsRMA-s0qdY1aTljRJ2qWUOVZ3FITXp6f8y63iZxZClTuTj9-666xk6dVaiadInPq3wdK_wFhuIo0oREdv9YJfpIfQKbHYqF723ol_gcTy0IbnxFsVrRN3LoXNuokYxFi47UrWdsRV454GO6mnZAkgoVL49Ts3EErnNBFApJR_AUMX09kxnHLQVgrnG12k-EQn0ZZC1EWbBXio0EUWu6AeTj9n1v4JBDSKQnShyZH1Fhcw95LwheuEdIyUToiyhGh6CxbXQERPe4My9CNTEOAPbMH5RF2HgQglq2GCW_T_YSUweA5nm06DFjbZ57_twZSAXAZ5g3bAVBSPyj6Xp9d_3wdJGHyi7XNeviJrOgiPjHc3jzyKwQ51hY8Z__x96eot8-rcHLoihL0tXhsFGmQHJopSx_ng1bxmZ304eKGhqFErcc3YD9VHgeFvHsC1kQbQ5rqp4BgWhhMu-xNJdg5UXE8uA2qcMVIBuMQe9vj-Ep3gB9TO-a3VaS2VEccGfR3LzvQiNCz404SrU2d45cz57k9ZiZNgIvMtrcRdR9olVXa_B0sQkhJawbuIr42A2pmKAwzNymLwrMAlysM1viwO0-S8y3NNN-OmgZd3vr2JM1WAko2laplN6LSsl_rDfyHPOpgy5X5y8kZsM4xKc85zHqyXo-1bX4PHbKgeurrtszhSYksacjxpThlKViZFvibkReLKwQ2Ig5JvJuH7OtRtT24tyzAX-TacnK6eNrRt-A-mGu4SuL1PbpmODvMF9QBGoZuyPt20EnAnkHhOC1LQcxdrnswCjjMQckJ9dJZBvTPIsBChncPD17gFqKeyJoVrE23JvHp_lOUGowplhgXzilgbkRRU-nqIa9ixtSmz49Z6NpaV4He5_r_AKLVEycIZm8VCvl5kJsPziiDfEmWlxabIs5rgbuW1riiPthtDyPcI1QEPs6UNk_O-M__cnckwDwJnul8QH04wq70f3WJ19DcRYPWe9BIqa8Yx-t8KdsjKWswBJvsSHavOEU2m6c0TRW8SCHBjQ48ZZ0B5o.veVBU08nTeiL3XzPkjCBlg; CognitoIdentityServiceProvider.3gphrakcgldiq04651jd6k773b.ba2ec3cc-dc55-4867-b740-6c73d455641e.clockDrift=0; CognitoIdentityServiceProvider.3gphrakcgldiq04651jd6k773b.LastAuthUser=ba2ec3cc-dc55-4867-b740-6c73d455641e; __awc_tld_test__=tld_test; CognitoIdentityServiceProvider.3gphrakcgldiq04651jd6k773b.ba2ec3cc-dc55-4867-b740-6c73d455641e.accessToken=eyJraWQiOiJ3MkVVUHNuSXA0b1NBdDdGczR1VWg5NkM1UnArbjM2TzAxVytWdTF5cUpjPSIsImFsZyI6IlJTMjU2In0.eyJzdWIiOiJiYTJlYzNjYy1kYzU1LTQ4NjctYjc0MC02YzczZDQ1NTY0MWUiLCJldmVudF9pZCI6ImIzMjk4NmZkLWY0MzQtNDU1Zi05MGRiLTkxMzAwY2Q3ZTQyOSIsInRva2VuX3VzZSI6ImFjY2VzcyIsInNjb3BlIjoiYXdzLmNvZ25pdG8uc2lnbmluLnVzZXIuYWRtaW4iLCJhdXRoX3RpbWUiOjE2NDU0MjE3OTUsImlzcyI6Imh0dHBzOlwvXC9jb2duaXRvLWlkcC51cy13ZXN0LTIuYW1hem9uYXdzLmNvbVwvdXMtd2VzdC0yX2ZEV2QwVkNDZiIsImV4cCI6MTY0NjEyMDQ3OCwiaWF0IjoxNjQ2MTE2ODc4LCJqdGkiOiJkYzBhYzIxNC05MDg2LTQzMDQtYTQyNy0xMzQ4Mzg3ZDc0YTgiLCJjbGllbnRfaWQiOiIzZ3BocmFrY2dsZGlxMDQ2NTFqZDZrNzczYiIsInVzZXJuYW1lIjoiYmEyZWMzY2MtZGM1NS00ODY3LWI3NDAtNmM3M2Q0NTU2NDFlIn0.W5htn4iJvsRcGXDNvT25Px7M6ZeACMucoTGncy1CDIYdSY0WMXl0ISWUiqbqJ_qF0lwFGC0j036Sjg8DFh7wO_GrVH03X5vZWeE84kI9naH6U046yv9W87a9UvItBKY9XRvsujZ5YHQy3XnatmURHj92VqJGS_gCEsDi1fDGl8s5c0-5En7RpCU4lZc65dr8GMzfKbFUvJVNZgbECagMcnX1tat9mDvRmrW48hTg1_LQvhCJJFd2X787GGa_PDBnOgNcIQdA3l0yoxO1g-h52O0J_3_H-lmhpm66KT3udO8sgCKnz73tjD8MpQdBOVVADdnHPTpUht9i7u4DmzO2vg; CognitoIdentityServiceProvider.3gphrakcgldiq04651jd6k773b.ba2ec3cc-dc55-4867-b740-6c73d455641e.idToken=eyJraWQiOiJaXC9taTlBcnN2VHloV0hKWFBrcHFJb1ppSzRHMHdEWGZxV0V5VGtUc2g1RT0iLCJhbGciOiJSUzI1NiJ9.eyJzdWIiOiJiYTJlYzNjYy1kYzU1LTQ4NjctYjc0MC02YzczZDQ1NTY0MWUiLCJlbWFpbF92ZXJpZmllZCI6dHJ1ZSwiaXNzIjoiaHR0cHM6XC9cL2NvZ25pdG8taWRwLnVzLXdlc3QtMi5hbWF6b25hd3MuY29tXC91cy13ZXN0LTJfZkRXZDBWQ0NmIiwiY29nbml0bzp1c2VybmFtZSI6ImJhMmVjM2NjLWRjNTUtNDg2Ny1iNzQwLTZjNzNkNDU1NjQxZSIsImF1ZCI6IjNncGhyYWtjZ2xkaXEwNDY1MWpkNms3NzNiIiwiZXZlbnRfaWQiOiJiMzI5ODZmZC1mNDM0LTQ1NWYtOTBkYi05MTMwMGNkN2U0MjkiLCJ0b2tlbl91c2UiOiJpZCIsImF1dGhfdGltZSI6MTY0NTQyMTc5NSwibmFtZSI6IkdhbmdhIiwiY3VzdG9tOmxhc3RuYW1lIjoiUGF1bCIsImV4cCI6MTY0NjEzMjc3MSwiaWF0IjoxNjQ2MTI5MTcxLCJlbWFpbCI6ImdhbmdhLnBhdWxAZWx1Y2lkYXRhLmlvIn0.aVwpE0dgNtp3zD4-rRnp-54Gh9t4YECii4VirjqHesn5_moQmWnjz5xokkPaK6yog9TPiFKjCN_NAAHvfjOyPX9kk5vzmbzXT-G1snP8Kt7aC6WhR8mEhQr1Oyxk67uwvkHmAyCLCIUZONoaG_5npc4XjYcIgS-uFgLIsJX4qIrXs52xHJ8BbXlf-KptTfXvzC_YmkRTc-oXzFay3sKEOKDoPpp19O8RL9qpdC5pPLe0rx8oGBvSx-76K-A-RRbEwW_GNv6gxJHkOeFDsu3cDkXsoTWViWgH5zE_3TnWNUahHLpyVJKozhzxHXeno_slXolxNMsXus8Q0qTf7F02YA'"
   ]
  },
  {
   "cell_type": "code",
   "execution_count": 2,
   "metadata": {
    "kernel": "Pollyglot"
   },
   "outputs": [],
   "source": [
    "pd.set_option('display.max_rows', 100)\n",
    "\n",
    "def run_query(index, query):\n",
    "    url = f\"https://api.datalake.discover.polly.elucidata.io/elastic\"\n",
    "    headers = {\n",
    "      'Content-Type': 'application/vnd.api+json',\n",
    "      'Accept': 'application/vnd.api+json',\n",
    "      'Cookie': COOKIE\n",
    "    }\n",
    "\n",
    "    payload = json.dumps(query)\n",
    "    query_url = url + f\"/{index}/_search?scroll=1m\"\n",
    "    response = requests.post(query_url, headers=headers, data=payload)\n",
    "    search_result = json.loads(response.text)\n",
    "    hits = search_result.get(\"hits\", {}).get(\"hits\")\n",
    "\n",
    "    all_hits = []\n",
    "    while hits:\n",
    "        all_hits += hits\n",
    "        print(\"Fetched {} matches\".format(len(all_hits)), end=\"\\r\")\n",
    "\n",
    "        scroll_id = search_result[\"_scroll_id\"]\n",
    "        payload = json.dumps({\"scroll\": \"1m\", \"scroll_id\": scroll_id})\n",
    "        response = requests.post(url + \"/_search/scroll\", headers=headers, data=payload)\n",
    "        search_result = json.loads(response.text)\n",
    "        hits = search_result.get(\"hits\", {}).get(\"hits\")\n",
    "\n",
    "    print()\n",
    "    return pd.DataFrame(data=[hit.get(\"_source\") for hit in all_hits])\n",
    "\n",
    "def datasets_index(repo_name):\n",
    "    return f\"{repo_name}_files\"\n",
    "\n",
    "def samples_index(repo_name):\n",
    "    return f\"{repo_name}_gct_metadata\""
   ]
  },
  {
   "cell_type": "code",
   "execution_count": 3,
   "metadata": {
    "kernel": "Pollyglot"
   },
   "outputs": [
    {
     "name": "stdout",
     "output_type": "stream",
     "text": [
      "Fetched 13162 matches\n"
     ]
    }
   ],
   "source": [
    "repo_name = \"lincs\"\n",
    "index = datasets_index(repo_name)\n",
    "query = {\n",
    "    \"query\": {\n",
    "        \"match\": {\n",
    "            # Search for the following key-value pairs\n",
    "            #\"disease.keyword\": \"adenocarcinoma of lung\",\n",
    "            \"kw_cell_line.keyword\":\"a-549\"\n",
    "        }\n",
    "    },\n",
    "\n",
    "    # Include the following columns in the output\n",
    "    #\"_source\": [\"dataset_source\", \"dataset_id\", \"description\", \"kw_drug\", \"kw_cell_line\",\"kw_doc_id\",\"disease\",\"kw_curated_drug\"],\n",
    "\n",
    "    # Fetch X many rows at a time (you will still get the full output, which may be greater than 10K)\n",
    "    \"size\": 1000\n",
    "}\n",
    "\n",
    "\n",
    "df=run_query(index, query)"
   ]
  },
  {
   "cell_type": "code",
   "execution_count": 4,
   "metadata": {
    "kernel": "Pollyglot"
   },
   "outputs": [],
   "source": [
    "##list of positive controls\n",
    "pos_controls=['15-delta-prostaglandin-j2','alpha-estradiol','alvespimycin','estradiol','fluphenazine','fulvestrant','geldanamycin','genistein','LY-294002','mitoxantrone','radicicol',\n",
    "'sirolimus','tanespimycin','thioridazine','tretinoin','trichostatin-a','trifluoperazine','troglitazone','valproic-acid',\n",
    "'vorinostat','withaferin-a','wortmannin']\n"
   ]
  },
  {
   "cell_type": "code",
   "execution_count": 5,
   "metadata": {
    "kernel": "Pollyglot"
   },
   "outputs": [],
   "source": [
    "##creating a column for  drug monitored\n",
    "drug=df['kw_drug'].tolist()\n",
    "df['unique_kw_drug'] = \"\"\n",
    "\n",
    "for _, row in df.iterrows():\n",
    "    l=list(set(row['kw_drug'])-set(pos_controls) )\n",
    "    if len(l) >= 1:\n",
    "        row['unique_kw_drug'] = l[0]\n",
    "    else:\n",
    "        row['unique_kw_drug']='None'\n",
    "\n",
    "##creating a list of unique drugs\n",
    "s=set(df['unique_kw_drug'].tolist())\n",
    "unique_drug=list(s)\n",
    "unique_drug.remove('None')"
   ]
  },
  {
   "cell_type": "code",
   "execution_count": 6,
   "metadata": {
    "kernel": "Pollyglot"
   },
   "outputs": [],
   "source": [
    "unique_complete=unique_drug"
   ]
  },
  {
   "cell_type": "code",
   "execution_count": 7,
   "metadata": {
    "kernel": "Pollyglot"
   },
   "outputs": [],
   "source": [
    "def convert_gct_to_df(dataset_id,drug):\n",
    "    file_name=dataset_id+\".gct\"\n",
    "    url = omixatlas.download_data(\"lincs\", dataset_id).get('data')\n",
    "    os.system(f\"wget -O '{file_name}' '{url['attributes']['download_url']}'\") \n",
    "    #data = parse(file_name)\n",
    "    ##reading gct files and computing zscores for the dataframe\n",
    "    try:\n",
    "        data = parse(file_name)\n",
    "        col_meta_data = data.col_metadata_df\n",
    "        row_meta_data = data.row_metadata_df\n",
    "        my_data = data.data_df    \n",
    "        my_data_z=compute_zscore(my_data)\n",
    "        ##filtering all columns others than positive controls from column meta data\n",
    "        drug_columns=col_meta_data.index[col_meta_data['pert_iname']==drug].tolist()\n",
    "        my_data_subset=my_data_z[[*drug_columns]]\n",
    "    except:\n",
    "        data = parse(file_name)\n",
    "        print(data)\n",
    "        col_meta_data = data.col_metadata_df\n",
    "        row_meta_data = data.row_metadata_df\n",
    "        my_data = data.data_df    \n",
    "        my_data_z=compute_zscore(my_data)\n",
    "        drug_columns=col_meta_data.index[col_meta_data['pert_iname']==drug].tolist()\n",
    "        my_data_subset=my_data_z[[*drug_columns]]\n",
    "    \n",
    "    os.remove(file_name)\n",
    "    return row_meta_data,my_data_subset\n",
    "       "
   ]
  },
  {
   "cell_type": "code",
   "execution_count": 8,
   "metadata": {
    "kernel": "Pollyglot"
   },
   "outputs": [],
   "source": [
    "\n",
    "def download_gcts(dataframe,drug):\n",
    "    expr_df_ds=pd.DataFrame()\n",
    "    dataset_list=dataframe[dataframe['unique_kw_drug']==drug]['dataset_id'].tolist()\n",
    "    first=True\n",
    "    lm_genes=[]\n",
    "    bing_genes=[]\n",
    "    ##downloading all daatsets for a drug\n",
    "    for ds in dataset_list:\n",
    "        if first==True:\n",
    "            first=False\n",
    "            row_data,expr_df=convert_gct_to_df(ds,drug)\n",
    "            expr_df_ds=expr_df\n",
    "            lm_genes = list(row_data[row_data['pr_is_lm']==1 ].index)\n",
    "            bing_genes = list(row_data[row_data['pr_is_bing']==1 ].index)\n",
    "        else:\n",
    "            row_data,expr_df=convert_gct_to_df(ds,drug)\n",
    "            expr_df_ds=pd.concat([expr_df_ds,expr_df], axis=1)\n",
    "            lm_genes = list(row_data[row_data['pr_is_lm']==1 ].index)\n",
    "            bing_genes = list(row_data[row_data['pr_is_bing']==1 ].index)\n",
    "    return lm_genes,bing_genes,expr_df_ds"
   ]
  },
  {
   "cell_type": "code",
   "execution_count": 9,
   "metadata": {
    "kernel": "Pollyglot"
   },
   "outputs": [],
   "source": [
    "def compute_zscore(dataframe):\n",
    "    ##computing z score\n",
    "    dataframe_zt = pd.DataFrame(zscore(dataframe, axis=1))\n",
    "    dataframe_zt.columns = dataframe.columns\n",
    "    dataframe_zt.index = dataframe.index\n",
    "    return dataframe_zt"
   ]
  },
  {
   "cell_type": "code",
   "execution_count": 10,
   "metadata": {
    "kernel": "Pollyglot"
   },
   "outputs": [],
   "source": [
    "def convert_ztop(zvalues):    \n",
    "    ##conversion of z scores to pvalue\n",
    "    pval=[]\n",
    "    for i in zvalues:\n",
    "        pval.append(scipy.stats.norm.sf(abs(i))*2) \n",
    "    return pval"
   ]
  },
  {
   "cell_type": "code",
   "execution_count": 11,
   "metadata": {
    "kernel": "Pollyglot"
   },
   "outputs": [],
   "source": [
    "def stouffers_analysis(dataframe):\n",
    "    ##avg of correlation of a column with others are their weights for stouffers method\n",
    "    corr_df=dataframe.corr(method='spearman')\n",
    "    corr_df=corr_df.replace(1, 0)\n",
    "    corr_df['sum']=corr_df.sum(axis=1)\n",
    "    corr_df['sum']=corr_df['sum'].abs()\n",
    "    corr_df['mean']=corr_df['sum']/2.000\n",
    "    dataframe_transpose=dataframe.transpose()\n",
    "    dataframe_transpose['weight']=corr_df['mean']\n",
    "    stval=[]\n",
    "    for column in dataframe_transpose:\n",
    "        if column == 'weight':\n",
    "            continue\n",
    "        else:\n",
    "            try:\n",
    "                ##calculating combined z score\n",
    "                stval.append(np.sum(dataframe_transpose[column]*dataframe_transpose['weight'])/ np.sqrt(np.sum(dataframe_transpose['weight'] ** 2)) )\n",
    "            except ZeroDivisionError:\n",
    "                print('Cannot devide by zero.')\n",
    "                \n",
    "    return stval"
   ]
  },
  {
   "cell_type": "code",
   "execution_count": 12,
   "metadata": {
    "kernel": "Pollyglot"
   },
   "outputs": [],
   "source": [
    "def bonferroni(pvalues):\n",
    "    alpha=0.05\n",
    "    reject, pvals_corrected, alpha_c_sidak, alpha_c_bonf = multicomp.multipletests(pvalues, alpha=alpha, method='bonferroni')\n",
    "    nlog = list(-np.log10(pvals_corrected))\n",
    "    return reject,nlog"
   ]
  },
  {
   "cell_type": "code",
   "execution_count": 14,
   "metadata": {
    "kernel": "Pollyglot"
   },
   "outputs": [],
   "source": [
    "import json\n",
    "def finddeg(pert,index):\n",
    "    print(index)\n",
    "    print(pert,)\n",
    "    print(\"started\")\n",
    "    #alpha = 0.05\n",
    "    \n",
    "    dictionary ={\n",
    "    \"drugs being processed \" : index+1,\n",
    "    \"processing started for\" : pert\n",
    "    }\n",
    "  \n",
    "# Serializing json \n",
    "    json_object = json.dumps(dictionary, indent = 4)\n",
    "  \n",
    "# Writing to sample.json\n",
    "    with open(\"output.json\", \"w\") as outfile:\n",
    "        outfile.write(json_object)\n",
    "        \n",
    "    ##download all gcts\n",
    "    diff_df=pd.DataFrame()\n",
    "    lm,bing,drug_df=download_gcts(df,pert)\n",
    "\n",
    "    ##separate dataframe for landmark and bing genes\n",
    "    drug_df_lm = drug_df[drug_df.index.isin(lm)]\n",
    "    drug_df_bing = drug_df[drug_df.index.isin(bing)] \n",
    "    \n",
    "    ##calling stouffers analysis\n",
    "    st1=stouffers_analysis(drug_df_lm)\n",
    "    st2=stouffers_analysis(drug_df_bing)\n",
    "    \n",
    "    ##converting zvalue to p value\n",
    "    pval1=convert_ztop(st1)\n",
    "    pval2=convert_ztop(st2)\n",
    "    \n",
    "    ##creating new column zvalue and pvalue\n",
    "    drug_df_lm=drug_df_lm.assign(zvalue='',pvalue='')\n",
    "    drug_df_bing=drug_df_bing.assign(zvalue='',pvalue='')\n",
    "    \n",
    "    drug_df_lm['zvalue']=np.array(st1)\n",
    "    drug_df_bing['zvalue']=np.array(st2)\n",
    "    \n",
    "    drug_df_lm['pvalue']=pval1\n",
    "    drug_df_bing['pvalue']=pval2\n",
    "    \n",
    "    ##bonferroni adjustment\n",
    "    reject_lm,nlog_lm=bonferroni(pval1)\n",
    "    reject_bing,nlog_bing=bonferroni(pval2)\n",
    "    \n",
    "    ##subset of dataframe that reject null hypothesis(signifant genes)\n",
    "    drug_df_lm=drug_df_lm[reject_lm]\n",
    "    drug_df_bing=drug_df_bing[reject_bing]\n",
    "    \n",
    "    ##finding direction of regulation\n",
    "    drug_df_lm['direction'] = drug_df_lm.zvalue.map(lambda x: 'up' if x > 0 else 'down')\n",
    "    drug_df_bing['direction'] = drug_df_bing.zvalue.map(lambda x: 'up' if x > 0 else 'down')\n",
    "    \n",
    "    ##creating gene column from index\n",
    "    drug_df_lm['gene'] = drug_df_lm.index\n",
    "    drug_df_bing['gene'] = drug_df_bing.index\n",
    "    \n",
    "    drug_df_bing.insert(0,'drug',pert)\n",
    "    drug_df_lm.insert(0,'drug',pert)\n",
    "    \n",
    "    col=['drug','gene','zvalue','pvalue','direction']\n",
    "    drug_df_lm=drug_df_lm[[*col]]\n",
    "    drug_df_bing=drug_df_bing[[*col]]\n",
    "    \n",
    "    ##concatenating diffentially expressed landmark and bing genes\n",
    "    diff_df=pd.concat([diff_df,drug_df_lm], axis=0)\n",
    "    diff_df=pd.concat([diff_df,drug_df_bing], axis=0)\n",
    "    \n",
    "    dictionary ={\n",
    "    \"drugs being processed \" : index+1,\n",
    "    \"processing started for\" : pert\n",
    "    }\n",
    "  \n",
    "# Serializing json \n",
    "    json_object = json.dumps(dictionary, indent = 4)\n",
    "  \n",
    "# Writing to sample.json\n",
    "    with open(\"output.json\", \"w\") as outfile:\n",
    "        outfile.write(json_object)\n",
    "    return diff_df\n"
   ]
  },
  {
   "cell_type": "code",
   "execution_count": 15,
   "metadata": {
    "kernel": "Pollyglot"
   },
   "outputs": [],
   "source": [
    "\n",
    "def parallel_query(unique_drug,start,end):\n",
    "\n",
    "    final = []\n",
    "    print(\"parallel processing started for\",)\n",
    "    \n",
    "    print(start,end)\n",
    "    result = Parallel(n_jobs=10, prefer=\"processes\")(delayed(finddeg)(drug,index) for index,drug in enumerate(unique_drug))\n",
    "\n",
    "    print(\"parallel processing completed for\",)\n",
    "    print(start,end)\n",
    "    for that_dict in result:\n",
    "        if isinstance(that_dict, pd.DataFrame):\n",
    "            final.append(that_dict)\n",
    "\n",
    "    df = pd.concat(final)\n",
    "    return df"
   ]
  },
  {
   "cell_type": "code",
   "execution_count": 16,
   "metadata": {
    "kernel": "Pollyglot"
   },
   "outputs": [],
   "source": [
    "\n",
    "output_df=pd.DataFrame()"
   ]
  },
  {
   "cell_type": "code",
   "execution_count": null,
   "metadata": {
    "kernel": "Pollyglot"
   },
   "outputs": [],
   "source": []
  },
  {
   "cell_type": "code",
   "execution_count": 17,
   "metadata": {
    "kernel": "Pollyglot"
   },
   "outputs": [
    {
     "name": "stdout",
     "output_type": "stream",
     "text": [
      "parallel processing started for\n",
      "0 1000\n",
      "parallel processing completed for\n",
      "0 1000\n",
      "parallel processing started for\n",
      "1001 2000\n",
      "parallel processing completed for\n",
      "1001 2000\n",
      "parallel processing started for\n",
      "2001 3000\n",
      "parallel processing completed for\n",
      "2001 3000\n",
      "parallel processing started for\n",
      "3001 4000\n",
      "parallel processing completed for\n",
      "3001 4000\n",
      "parallel processing started for\n",
      "4001 5000\n",
      "parallel processing completed for\n",
      "4001 5000\n",
      "parallel processing started for\n",
      "5001 6000\n",
      "parallel processing completed for\n",
      "5001 6000\n",
      "parallel processing started for\n",
      "6001 7000\n",
      "parallel processing completed for\n",
      "6001 7000\n",
      "parallel processing started for\n",
      "7001 8000\n",
      "parallel processing completed for\n",
      "7001 8000\n",
      "parallel processing started for\n",
      "8001 9000\n",
      "parallel processing completed for\n",
      "8001 9000\n",
      "parallel processing started for\n",
      "9001 10000\n",
      "parallel processing completed for\n",
      "9001 10000\n",
      "parallel processing started for\n",
      "10001 11000\n",
      "parallel processing completed for\n",
      "10001 11000\n",
      "parallel processing started for\n",
      "11001 12000\n",
      "parallel processing completed for\n",
      "11001 12000\n"
     ]
    }
   ],
   "source": [
    "from joblib import Parallel, delayed\n",
    "import time\n",
    "start=0\n",
    "end=1000\n",
    "while end <=12000:\n",
    " \n",
    "    begin = time.time()\n",
    "\n",
    "    unique_drug=unique_complete[start:end]\n",
    "    result_df = parallel_query(unique_drug,start,end)\n",
    "\n",
    "    stop = time.time()\n",
    "    #print(f\"Total runtime of the program is {stop - begin}\")\n",
    "    \n",
    "    output_df=pd.concat([output_df,result_df], axis=0)\n",
    "\n",
    "    start=end+1\n",
    "    end=end+1000\n",
    "\n",
    "    "
   ]
  },
  {
   "cell_type": "code",
   "execution_count": 194,
   "metadata": {
    "kernel": "Pollyglot"
   },
   "outputs": [
    {
     "data": {
      "text/html": [
       "<div>\n",
       "<style scoped>\n",
       "    .dataframe tbody tr th:only-of-type {\n",
       "        vertical-align: middle;\n",
       "    }\n",
       "\n",
       "    .dataframe tbody tr th {\n",
       "        vertical-align: top;\n",
       "    }\n",
       "\n",
       "    .dataframe thead th {\n",
       "        text-align: right;\n",
       "    }\n",
       "</style>\n",
       "<table border=\"1\" class=\"dataframe\">\n",
       "  <thead>\n",
       "    <tr style=\"text-align: right;\">\n",
       "      <th>cid</th>\n",
       "      <th>drug</th>\n",
       "      <th>gene</th>\n",
       "      <th>zvalue</th>\n",
       "      <th>pvalue</th>\n",
       "      <th>direction</th>\n",
       "    </tr>\n",
       "  </thead>\n",
       "  <tbody>\n",
       "    <tr>\n",
       "      <th>GAPDH</th>\n",
       "      <td>BRD-K12057275</td>\n",
       "      <td>GAPDH</td>\n",
       "      <td>-5.055100</td>\n",
       "      <td>4.301660e-07</td>\n",
       "      <td>down</td>\n",
       "    </tr>\n",
       "    <tr>\n",
       "      <th>GAPDH</th>\n",
       "      <td>BRD-K12057275</td>\n",
       "      <td>GAPDH</td>\n",
       "      <td>-5.055100</td>\n",
       "      <td>4.301660e-07</td>\n",
       "      <td>down</td>\n",
       "    </tr>\n",
       "    <tr>\n",
       "      <th>COG4</th>\n",
       "      <td>BRD-K04695623</td>\n",
       "      <td>COG4</td>\n",
       "      <td>-4.253888</td>\n",
       "      <td>2.100903e-05</td>\n",
       "      <td>down</td>\n",
       "    </tr>\n",
       "    <tr>\n",
       "      <th>PAN2</th>\n",
       "      <td>BRD-K04695623</td>\n",
       "      <td>PAN2</td>\n",
       "      <td>4.742212</td>\n",
       "      <td>2.113969e-06</td>\n",
       "      <td>up</td>\n",
       "    </tr>\n",
       "    <tr>\n",
       "      <th>ACTN4</th>\n",
       "      <td>BRD-K04695623</td>\n",
       "      <td>ACTN4</td>\n",
       "      <td>-4.606688</td>\n",
       "      <td>4.091325e-06</td>\n",
       "      <td>down</td>\n",
       "    </tr>\n",
       "    <tr>\n",
       "      <th>...</th>\n",
       "      <td>...</td>\n",
       "      <td>...</td>\n",
       "      <td>...</td>\n",
       "      <td>...</td>\n",
       "      <td>...</td>\n",
       "    </tr>\n",
       "    <tr>\n",
       "      <th>PXN</th>\n",
       "      <td>BRD-K70495648</td>\n",
       "      <td>PXN</td>\n",
       "      <td>-5.682898</td>\n",
       "      <td>1.324313e-08</td>\n",
       "      <td>down</td>\n",
       "    </tr>\n",
       "    <tr>\n",
       "      <th>USP7</th>\n",
       "      <td>BRD-K70495648</td>\n",
       "      <td>USP7</td>\n",
       "      <td>5.217510</td>\n",
       "      <td>1.813441e-07</td>\n",
       "      <td>up</td>\n",
       "    </tr>\n",
       "    <tr>\n",
       "      <th>PIK3CA</th>\n",
       "      <td>BRD-K08266813</td>\n",
       "      <td>PIK3CA</td>\n",
       "      <td>4.165313</td>\n",
       "      <td>3.109252e-05</td>\n",
       "      <td>up</td>\n",
       "    </tr>\n",
       "    <tr>\n",
       "      <th>CAMSAP2</th>\n",
       "      <td>BRD-K57856779</td>\n",
       "      <td>CAMSAP2</td>\n",
       "      <td>-4.331567</td>\n",
       "      <td>1.480517e-05</td>\n",
       "      <td>down</td>\n",
       "    </tr>\n",
       "    <tr>\n",
       "      <th>HPRT1</th>\n",
       "      <td>BRD-K57856779</td>\n",
       "      <td>HPRT1</td>\n",
       "      <td>-4.221408</td>\n",
       "      <td>2.427813e-05</td>\n",
       "      <td>down</td>\n",
       "    </tr>\n",
       "  </tbody>\n",
       "</table>\n",
       "<p>115293 rows × 5 columns</p>\n",
       "</div>"
      ],
      "text/plain": [
       "cid               drug     gene    zvalue        pvalue direction\n",
       "GAPDH    BRD-K12057275    GAPDH -5.055100  4.301660e-07      down\n",
       "GAPDH    BRD-K12057275    GAPDH -5.055100  4.301660e-07      down\n",
       "COG4     BRD-K04695623     COG4 -4.253888  2.100903e-05      down\n",
       "PAN2     BRD-K04695623     PAN2  4.742212  2.113969e-06        up\n",
       "ACTN4    BRD-K04695623    ACTN4 -4.606688  4.091325e-06      down\n",
       "...                ...      ...       ...           ...       ...\n",
       "PXN      BRD-K70495648      PXN -5.682898  1.324313e-08      down\n",
       "USP7     BRD-K70495648     USP7  5.217510  1.813441e-07        up\n",
       "PIK3CA   BRD-K08266813   PIK3CA  4.165313  3.109252e-05        up\n",
       "CAMSAP2  BRD-K57856779  CAMSAP2 -4.331567  1.480517e-05      down\n",
       "HPRT1    BRD-K57856779    HPRT1 -4.221408  2.427813e-05      down\n",
       "\n",
       "[115293 rows x 5 columns]"
      ]
     },
     "execution_count": 194,
     "metadata": {},
     "output_type": "execute_result"
    }
   ],
   "source": [
    "output_df"
   ]
  },
  {
   "cell_type": "code",
   "execution_count": 197,
   "metadata": {
    "kernel": "Pollyglot"
   },
   "outputs": [
    {
     "name": "stdout",
     "output_type": "stream",
     "text": [
      "parallel processing started for\n",
      "12001 13000\n",
      "parallel processing completed for\n",
      "12001 13000\n",
      "Total runtime of the program is 315.10101652145386\n"
     ]
    }
   ],
   "source": [
    "from joblib import Parallel, delayed\n",
    "import time\n",
    "begin = time.time()\n",
    "\n",
    "unique_drug=unique_complete[12001:12317]\n",
    "result_df = parallel_query(unique_drug,start,end)\n",
    "\n",
    "output_df=pd.concat([output_df,result_df], axis=0)\n",
    "\n",
    "stop = time.time()\n",
    "print(f\"Total runtime of the program is {stop - begin}\")"
   ]
  },
  {
   "cell_type": "code",
   "execution_count": 210,
   "metadata": {
    "kernel": "Pollyglot"
   },
   "outputs": [
    {
     "data": {
      "text/html": [
       "<div>\n",
       "<style scoped>\n",
       "    .dataframe tbody tr th:only-of-type {\n",
       "        vertical-align: middle;\n",
       "    }\n",
       "\n",
       "    .dataframe tbody tr th {\n",
       "        vertical-align: top;\n",
       "    }\n",
       "\n",
       "    .dataframe thead th {\n",
       "        text-align: right;\n",
       "    }\n",
       "</style>\n",
       "<table border=\"1\" class=\"dataframe\">\n",
       "  <thead>\n",
       "    <tr style=\"text-align: right;\">\n",
       "      <th>cid</th>\n",
       "      <th>drug</th>\n",
       "      <th>gene</th>\n",
       "      <th>zvalue</th>\n",
       "      <th>pvalue</th>\n",
       "      <th>direction</th>\n",
       "    </tr>\n",
       "  </thead>\n",
       "  <tbody>\n",
       "    <tr>\n",
       "      <th>0</th>\n",
       "      <td>BRD-K12057275</td>\n",
       "      <td>GAPDH</td>\n",
       "      <td>-5.055100</td>\n",
       "      <td>4.301660e-07</td>\n",
       "      <td>down</td>\n",
       "    </tr>\n",
       "    <tr>\n",
       "      <th>1</th>\n",
       "      <td>BRD-K04695623</td>\n",
       "      <td>COG4</td>\n",
       "      <td>-4.253888</td>\n",
       "      <td>2.100903e-05</td>\n",
       "      <td>down</td>\n",
       "    </tr>\n",
       "    <tr>\n",
       "      <th>2</th>\n",
       "      <td>BRD-K04695623</td>\n",
       "      <td>PAN2</td>\n",
       "      <td>4.742212</td>\n",
       "      <td>2.113969e-06</td>\n",
       "      <td>up</td>\n",
       "    </tr>\n",
       "    <tr>\n",
       "      <th>3</th>\n",
       "      <td>BRD-K04695623</td>\n",
       "      <td>ACTN4</td>\n",
       "      <td>-4.606688</td>\n",
       "      <td>4.091325e-06</td>\n",
       "      <td>down</td>\n",
       "    </tr>\n",
       "    <tr>\n",
       "      <th>4</th>\n",
       "      <td>BRD-K04695623</td>\n",
       "      <td>VIM</td>\n",
       "      <td>-7.271001</td>\n",
       "      <td>3.568342e-13</td>\n",
       "      <td>down</td>\n",
       "    </tr>\n",
       "    <tr>\n",
       "      <th>...</th>\n",
       "      <td>...</td>\n",
       "      <td>...</td>\n",
       "      <td>...</td>\n",
       "      <td>...</td>\n",
       "      <td>...</td>\n",
       "    </tr>\n",
       "    <tr>\n",
       "      <th>108764</th>\n",
       "      <td>BRD-K77403604</td>\n",
       "      <td>TMEM109</td>\n",
       "      <td>-4.345387</td>\n",
       "      <td>1.390301e-05</td>\n",
       "      <td>down</td>\n",
       "    </tr>\n",
       "    <tr>\n",
       "      <th>108765</th>\n",
       "      <td>BRD-K95850342</td>\n",
       "      <td>CNDP2</td>\n",
       "      <td>-4.153374</td>\n",
       "      <td>3.276086e-05</td>\n",
       "      <td>down</td>\n",
       "    </tr>\n",
       "    <tr>\n",
       "      <th>108766</th>\n",
       "      <td>BRD-K39422601</td>\n",
       "      <td>EGF</td>\n",
       "      <td>-4.104973</td>\n",
       "      <td>4.043614e-05</td>\n",
       "      <td>down</td>\n",
       "    </tr>\n",
       "    <tr>\n",
       "      <th>108767</th>\n",
       "      <td>BRD-K39422601</td>\n",
       "      <td>NOTCH1</td>\n",
       "      <td>5.109718</td>\n",
       "      <td>3.226394e-07</td>\n",
       "      <td>up</td>\n",
       "    </tr>\n",
       "    <tr>\n",
       "      <th>108768</th>\n",
       "      <td>BRD-K39422601</td>\n",
       "      <td>JMJD6</td>\n",
       "      <td>-4.183095</td>\n",
       "      <td>2.875674e-05</td>\n",
       "      <td>down</td>\n",
       "    </tr>\n",
       "  </tbody>\n",
       "</table>\n",
       "<p>108769 rows × 5 columns</p>\n",
       "</div>"
      ],
      "text/plain": [
       "cid              drug     gene    zvalue        pvalue direction\n",
       "0       BRD-K12057275    GAPDH -5.055100  4.301660e-07      down\n",
       "1       BRD-K04695623     COG4 -4.253888  2.100903e-05      down\n",
       "2       BRD-K04695623     PAN2  4.742212  2.113969e-06        up\n",
       "3       BRD-K04695623    ACTN4 -4.606688  4.091325e-06      down\n",
       "4       BRD-K04695623      VIM -7.271001  3.568342e-13      down\n",
       "...               ...      ...       ...           ...       ...\n",
       "108764  BRD-K77403604  TMEM109 -4.345387  1.390301e-05      down\n",
       "108765  BRD-K95850342    CNDP2 -4.153374  3.276086e-05      down\n",
       "108766  BRD-K39422601      EGF -4.104973  4.043614e-05      down\n",
       "108767  BRD-K39422601   NOTCH1  5.109718  3.226394e-07        up\n",
       "108768  BRD-K39422601    JMJD6 -4.183095  2.875674e-05      down\n",
       "\n",
       "[108769 rows x 5 columns]"
      ]
     },
     "execution_count": 210,
     "metadata": {},
     "output_type": "execute_result"
    }
   ],
   "source": [
    "output_df"
   ]
  },
  {
   "cell_type": "code",
   "execution_count": 213,
   "metadata": {
    "kernel": "Pollyglot"
   },
   "outputs": [],
   "source": [
    "dummy_df=output_df"
   ]
  },
  {
   "cell_type": "code",
   "execution_count": 209,
   "metadata": {
    "kernel": "Pollyglot"
   },
   "outputs": [],
   "source": [
    "output_df = output_df.drop_duplicates(\n",
    "  subset = ['drug', 'gene'],\n",
    "  keep = 'first').reset_index(drop = True)\n",
    "  "
   ]
  },
  {
   "cell_type": "code",
   "execution_count": 214,
   "metadata": {
    "kernel": "Pollyglot"
   },
   "outputs": [],
   "source": [
    "up_df=output_df[output_df['direction']=='up']\n",
    "up_df=up_df.reset_index()\n",
    "col=['drug','gene','zvalue','pvalue']\n",
    "up_df= up_df[[*col]]\n"
   ]
  },
  {
   "cell_type": "code",
   "execution_count": 215,
   "metadata": {
    "kernel": "Pollyglot"
   },
   "outputs": [],
   "source": [
    "down_df=output_df[output_df['direction']=='down']\n",
    "down_df=down_df.reset_index()\n",
    "col=['drug','gene','zvalue','pvalue']\n",
    "down_df= down_df[[*col]]"
   ]
  },
  {
   "cell_type": "code",
   "execution_count": 220,
   "metadata": {
    "kernel": "Pollyglot"
   },
   "outputs": [],
   "source": [
    "up_df.to_csv(\"lincs_upregulates_relationship.tsv\", sep='\\t')\n",
    "down_df.to_csv(\"lincs_downregulates_relationship.tsv\", sep='\\t')"
   ]
  },
  {
   "cell_type": "code",
   "execution_count": null,
   "metadata": {
    "kernel": "Pollyglot"
   },
   "outputs": [],
   "source": [
    "    #print(drug_df)\n",
    "    #drug_df['stouffers_result']=\"\"\n",
    "    #drug_df.append(pd.Series(name='weight'))\n",
    "#     for i in drug_df.index:\n",
    "#         l=drug_df.loc[i,:].values.tolist()\n",
    "#         count = sum(map(lambda x : abs(x) > 1, l))\n",
    "#         avg=(count/len(l))*100\n",
    "#         if avg < 30:\n",
    "#             drug_df.drop([i], inplace=True) \n",
    "    "
   ]
  },
  {
   "cell_type": "code",
   "execution_count": null,
   "metadata": {
    "kernel": "Pollyglot"
   },
   "outputs": [],
   "source": [
    "#     ind=col_meta_data[col_meta_data['pert_time'] > 24].index\n",
    "#     my_data_z.drop(ind,inplace=True)"
   ]
  }
 ],
 "metadata": {
  "kernelspec": {
   "display_name": "Pollyglot",
   "language": "sos",
   "name": "sos"
  },
  "language_info": {
   "codemirror_mode": "sos",
   "file_extension": ".sos",
   "mimetype": "text/x-sos",
   "name": "sos",
   "nbconvert_exporter": "sos_notebook.converter.SoS_Exporter",
   "pygments_lexer": "sos"
  },
  "sos": {
   "kernels": [
    [
     "Pollyglot",
     "sos",
     "",
     "",
     "sos"
    ]
   ],
   "panel": {
    "displayed": true,
    "height": 0
   },
   "version": "1.0.0"
  }
 },
 "nbformat": 4,
 "nbformat_minor": 2
}
